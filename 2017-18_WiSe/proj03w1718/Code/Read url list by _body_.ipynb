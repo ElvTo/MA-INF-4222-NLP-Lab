{
 "cells": [
  {
   "cell_type": "code",
   "execution_count": 1,
   "metadata": {},
   "outputs": [],
   "source": [
    "import pandas as pd\n",
    "import numpy as np\n",
    "import requests\n",
    "import itertools\n",
    "from bs4 import BeautifulSoup\n",
    "from sklearn.feature_extraction.text import CountVectorizer, TfidfVectorizer, HashingVectorizer\n",
    "from sklearn.model_selection import train_test_split\n",
    "from sklearn.linear_model import PassiveAggressiveClassifier\n",
    "from sklearn.naive_bayes import MultinomialNB\n",
    "from sklearn import metrics\n",
    "import matplotlib.pyplot as plt\n",
    "\n",
    "trustlist = pd.read_csv(\"/home/xiaotianzhou/Downloads/newsCorpora.csv\", sep='\\t', names = [\"ID\", \"TITLE\", \"URL\", \"PUBLISHER\", \"CATEGORY\", \"STORY\", \"HOSTNAME\", \"TIMESTAMP\" ])"
   ]
  },
  {
   "cell_type": "code",
   "execution_count": 2,
   "metadata": {},
   "outputs": [],
   "source": [
    "def concatenate_list_data(list):\n",
    "    result = ''\n",
    "    for element in list:\n",
    "        result += element\n",
    "    newlist = [result]\n",
    "    return newlist"
   ]
  },
  {
   "cell_type": "code",
   "execution_count": 3,
   "metadata": {},
   "outputs": [],
   "source": [
    "def generate_instance(list):\n",
    "    content = []\n",
    "    for url in list:\n",
    "        content1 = []\n",
    "        try:\n",
    "            page = requests.get(url)\n",
    "        except:\n",
    "            continue\n",
    "        soup = BeautifulSoup(page.content, 'html.parser')\n",
    "        # find the first tag with <body>\n",
    "        body = soup.find('body')\n",
    "        # get the content of all children\n",
    "        try:\n",
    "            content1 = body.findChildren()\n",
    "        except:\n",
    "            continue\n",
    "        content.append(content1)\n",
    "        #content1 = body\n",
    "        #content1 = body.findChildren()\n",
    "        #content1 = [con.get_text() for con in paragraph]\n",
    "        #content1 = concatenate_list_data(content1)\n",
    "        #content.extend(content1)\n",
    "        # remove empty elements\n",
    "        #while '' in content:\n",
    "            #content.remove('')\n",
    "        if len(content) < 1000:\n",
    "            continue\n",
    "        else:\n",
    "            break\n",
    "    return content"
   ]
  },
  {
   "cell_type": "code",
   "execution_count": 4,
   "metadata": {},
   "outputs": [],
   "source": [
    "#---------------------------------------------------------------------------------------\n",
    "test1 = trustlist[trustlist.CATEGORY == \"m\"]\n",
    "url_list1 = test1['URL']"
   ]
  },
  {
   "cell_type": "code",
   "execution_count": 5,
   "metadata": {},
   "outputs": [
    {
     "data": {
      "text/plain": [
       "1000"
      ]
     },
     "execution_count": 5,
     "metadata": {},
     "output_type": "execute_result"
    }
   ],
   "source": [
    "instance_health = generate_instance(url_list1)\n",
    "len(instance_health)"
   ]
  },
  {
   "cell_type": "code",
   "execution_count": 6,
   "metadata": {},
   "outputs": [],
   "source": [
    "data1 = pd.DataFrame({\n",
    "    \"content\": instance_health,\n",
    "    \"label\": \"Health\"\n",
    "})"
   ]
  },
  {
   "cell_type": "code",
   "execution_count": 7,
   "metadata": {},
   "outputs": [],
   "source": [
    "data1.to_csv('Class_Health<Body>.csv', sep = '\\t')"
   ]
  },
  {
   "cell_type": "code",
   "execution_count": 4,
   "metadata": {},
   "outputs": [],
   "source": [
    "#--------------------------------------------------------------------------------------------\n",
    "test2 = trustlist[trustlist.CATEGORY == \"b\"]\n",
    "test3 = trustlist[trustlist.CATEGORY == \"t\"]\n",
    "test4 = trustlist[trustlist.CATEGORY == \"e\"]"
   ]
  },
  {
   "cell_type": "code",
   "execution_count": 5,
   "metadata": {},
   "outputs": [],
   "source": [
    "url_list2 = test2['URL']\n",
    "url_list3 = test3['URL']\n",
    "url_list4 = test4['URL']"
   ]
  },
  {
   "cell_type": "code",
   "execution_count": 6,
   "metadata": {},
   "outputs": [
    {
     "data": {
      "text/plain": [
       "1000"
      ]
     },
     "execution_count": 6,
     "metadata": {},
     "output_type": "execute_result"
    }
   ],
   "source": [
    "instance_business = generate_instance(url_list2)\n",
    "data2 = pd.DataFrame({\n",
    "    \"content\": instance_business,\n",
    "    \"label\": \"Business\"\n",
    "})\n",
    "data2.to_csv('Class_Business<Body>.csv', sep = '\\t')\n",
    "len(instance_business)"
   ]
  },
  {
   "cell_type": "code",
   "execution_count": 7,
   "metadata": {},
   "outputs": [
    {
     "data": {
      "text/plain": [
       "1000"
      ]
     },
     "execution_count": 7,
     "metadata": {},
     "output_type": "execute_result"
    }
   ],
   "source": [
    "instance_science = generate_instance(url_list3)\n",
    "data3 = pd.DataFrame({\n",
    "    \"content\": instance_science,\n",
    "    \"label\": \"Science\"\n",
    "})\n",
    "data3.to_csv('Class_Science<Body>.csv', sep = '\\t')\n",
    "len(instance_science)"
   ]
  },
  {
   "cell_type": "code",
   "execution_count": 6,
   "metadata": {},
   "outputs": [
    {
     "data": {
      "text/plain": [
       "1000"
      ]
     },
     "execution_count": 6,
     "metadata": {},
     "output_type": "execute_result"
    }
   ],
   "source": [
    "instance_entertainment = generate_instance(url_list4)\n",
    "data4 = pd.DataFrame({\n",
    "    \"content\": instance_entertainment,\n",
    "    \"label\": \"Entertainment\"\n",
    "})\n",
    "data4.to_csv('Class_Entertainment<Body>.csv', sep = '\\t')\n",
    "len(instance_entertainment)"
   ]
  },
  {
   "cell_type": "code",
   "execution_count": null,
   "metadata": {},
   "outputs": [],
   "source": []
  }
 ],
 "metadata": {
  "kernelspec": {
   "display_name": "Python 3",
   "language": "python",
   "name": "python3"
  },
  "language_info": {
   "codemirror_mode": {
    "name": "ipython",
    "version": 3
   },
   "file_extension": ".py",
   "mimetype": "text/x-python",
   "name": "python",
   "nbconvert_exporter": "python",
   "pygments_lexer": "ipython3",
   "version": "3.5.2"
  }
 },
 "nbformat": 4,
 "nbformat_minor": 2
}
