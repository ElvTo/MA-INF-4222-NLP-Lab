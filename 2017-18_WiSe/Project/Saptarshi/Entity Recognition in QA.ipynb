{
 "cells": [
  {
   "cell_type": "markdown",
   "metadata": {},
   "source": [
    "# Dependencies"
   ]
  },
  {
   "cell_type": "markdown",
   "metadata": {},
   "source": [
    "<ul>\n",
    "<li>Currently uses the Stanford dependency parser provided by nltk.</li>\n",
    "<li>loadW2V is a program that loads word2Vec model stored in disk. (The models are provide by gensim)</li>\n",
    "<li>OxfordDictionary calls the Oxford Dictionary API to retrieve synonyms for certain words.</li>\n",
    "</ul>"
   ]
  },
  {
   "cell_type": "code",
   "execution_count": 241,
   "metadata": {},
   "outputs": [],
   "source": [
    "from nltk.parse.stanford import StanfordDependencyParser\n",
    "from SPARQLWrapper import SPARQLWrapper, JSON\n",
    "from urlparse import urlparse\n",
    "import loadW2V\n",
    "import numpy as np\n",
    "import OxfordDictionary as od\n",
    "import requests\n",
    "import urllib\n",
    "import ast\n",
    "import json"
   ]
  },
  {
   "cell_type": "markdown",
   "metadata": {},
   "source": [
    "If you want to see details of the extraction of answers, set the following to 'True':"
   ]
  },
  {
   "cell_type": "code",
   "execution_count": 172,
   "metadata": {
    "collapsed": true
   },
   "outputs": [],
   "source": [
    "log_details = False"
   ]
  },
  {
   "cell_type": "code",
   "execution_count": 163,
   "metadata": {
    "collapsed": true
   },
   "outputs": [],
   "source": [
    "bigJson = []"
   ]
  },
  {
   "cell_type": "markdown",
   "metadata": {},
   "source": [
    "# Functions"
   ]
  },
  {
   "cell_type": "markdown",
   "metadata": {},
   "source": [
    "### redirect(URI) !!!!![Unnecessary]!!!!!"
   ]
  },
  {
   "cell_type": "markdown",
   "metadata": {},
   "source": [
    "The function <b>\"redirect\"</b> returns the proper DBpedia URI by fetching the property <b>wikiPageRidirects</b>.\n",
    "<br/><br/>\n",
    "For example: <br/>\n",
    "If the provided URI is http://dbpedia.org/page/JFK, it returns http://dbpedia.org/page/John_F._Kennedy"
   ]
  },
  {
   "cell_type": "code",
   "execution_count": 3,
   "metadata": {
    "collapsed": true
   },
   "outputs": [],
   "source": [
    "def redirect(URI):\n",
    "    sparql = SPARQLWrapper(\"http://dbpedia.org/sparql\")\n",
    "    query = \"\"\"\n",
    "        PREFIX rdfs: <http://www.w3.org/2000/01/rdf-schema#>\n",
    "        SELECT ?wikiPageRedirects\n",
    "        WHERE { <\"\"\" + URI + \"\"\">\n",
    "        dbo:wikiPageRedirects ?wikiPageRedirects }\n",
    "    \"\"\"\n",
    "    if log_details:\n",
    "        print query\n",
    "    sparql.setQuery(query)\n",
    "    sparql.setReturnFormat(JSON)\n",
    "    results = sparql.query().convert()\n",
    "    # print results\n",
    "    new_URI = [r[\"wikiPageRedirects\"][\"value\"] for r in results[\"results\"][\"bindings\"]]\n",
    "    if log_details:\n",
    "        print \"\\nREDIRECT:\"\n",
    "    if len(new_URI) > 0:\n",
    "        if log_details:\n",
    "            print new_URI[0]\n",
    "        return new_URI[0]\n",
    "    else:\n",
    "        if log_details:\n",
    "            print URI\n",
    "        return URI"
   ]
  },
  {
   "cell_type": "code",
   "execution_count": 158,
   "metadata": {
    "collapsed": true
   },
   "outputs": [],
   "source": [
    "def get_Label(URI):\n",
    "    sparql = SPARQLWrapper(\"http://dbpedia.org/sparql\")\n",
    "    query = \"\"\"\n",
    "            PREFIX rdfs: <http://www.w3.org/2000/01/rdf-schema#>\n",
    "            SELECT ?label\n",
    "            WHERE { <\"\"\" + URI + \"\"\">\n",
    "            rdfs:label ?label \n",
    "            FILTER (lang(?label) = 'en') }            \n",
    "        \"\"\"\n",
    "    \n",
    "    sparql.setQuery(query)\n",
    "    sparql.setReturnFormat(JSON)\n",
    "    results = sparql.query().convert()\n",
    "    return results['results']['bindings'][0]['label']['value']"
   ]
  },
  {
   "cell_type": "code",
   "execution_count": 159,
   "metadata": {},
   "outputs": [
    {
     "data": {
      "text/plain": [
       "u'birth date'"
      ]
     },
     "execution_count": 159,
     "metadata": {},
     "output_type": "execute_result"
    }
   ],
   "source": [
    "get_Label('http://dbpedia.org/ontology/birthDate')"
   ]
  },
  {
   "cell_type": "markdown",
   "metadata": {},
   "source": [
    "### get_closest_word(word, URI)"
   ]
  },
  {
   "cell_type": "markdown",
   "metadata": {},
   "source": [
    "The function <b>\"get_closest_word\"</b> returns the property of the URI which is closest to the provided word.\n",
    "<br/><br/>\n",
    "For example: <br/>\n",
    "If the provided word is <b>wife</b> for http://dbpedia.org/page/John_F._Kennedy, it returns the property <b>spouse</b>."
   ]
  },
  {
   "cell_type": "code",
   "execution_count": 249,
   "metadata": {},
   "outputs": [],
   "source": [
    "def get_closest_keyword(word, URI, json_unit):\n",
    "    sparql = SPARQLWrapper(\"http://dbpedia.org/sparql\")\n",
    "    query = \"\"\"\n",
    "        select distinct ?prop where {\n",
    "             <\"\"\"+ URI +\"\"\">\n",
    "             ?prop ?ent }\n",
    "    \"\"\"\n",
    "    sparql.setQuery(query)\n",
    "    sparql.setReturnFormat(JSON)\n",
    "    results = sparql.query().convert()\n",
    "\n",
    "    properties = []\n",
    "    if log_details:\n",
    "        print \"\\nPROPERTIES:\"\n",
    "    for result in results[\"results\"][\"bindings\"]:\n",
    "        if log_details:\n",
    "            print result\n",
    "        arr = result[\"prop\"][\"value\"].split('/')\n",
    "        # properties.append(arr[len(arr) - 1])\n",
    "        if arr[len(arr) - 1] != 'abstract':\n",
    "            properties.append([arr[len(arr) - 1], arr[len(arr) - 2]])\n",
    "\n",
    "    stack_details = {}\n",
    "    stack_details[\"word\"] = word\n",
    "    stack_details[\"properties\"] = properties\n",
    "    \n",
    "    properties = np.array(properties)\n",
    "    \n",
    "    if log_details:\n",
    "        print \"To be matched with: \", word\n",
    "    # print properties\n",
    "    for p in properties:\n",
    "        if p[0] == word:\n",
    "            json_unit[\"stackDetails\"].append(stack_details)\n",
    "            return p\n",
    "\n",
    "    synonyms = od.getSynonyms(word)\n",
    "    stack_details[\"synonyms\"] = synonyms\n",
    "    \n",
    "    log = []\n",
    "    if synonyms == False:\n",
    "        synonyms = []\n",
    "\n",
    "    synonyms.append((word, word))\n",
    "    if log_details:\n",
    "        print \"\\nSYNONYMS:\"\n",
    "        print synonyms\n",
    "        \n",
    "    for synonym in synonyms:\n",
    "        for p in properties:\n",
    "            if p[0] == synonym[0]:\n",
    "                json_unit[\"stackDetails\"].append(stack_details)\n",
    "                return p\n",
    "\n",
    "    \n",
    "#     prop_syn_avg = []\n",
    "#     for p in properties:\n",
    "#         avg = 0\n",
    "#         for synonym in synonyms:\n",
    "#             try:\n",
    "#                 s = loadW2V.b.similarity(p[0], synonym[0])\n",
    "#                 # print '(', p[0], ',' , synonym[0], ') ', s\n",
    "#                 avg += s\n",
    "#             except KeyError:\n",
    "#                 log.append(KeyError.message)\n",
    "\n",
    "#         prop_syn_avg.append([p[0], avg/len(synonyms)])\n",
    "\n",
    "#     sortd = np.argsort(np.array(prop_syn_avg), 0)[:,1]\n",
    "\n",
    "    text_properties = ''\n",
    "    for p in properties:\n",
    "        text_properties = text_properties + '+' + p[0]\n",
    "    \n",
    "    text_synonyms = ''\n",
    "    for s in synonyms:\n",
    "        text_synonyms = text_synonyms + '+' + s[0]\n",
    "    \n",
    "#     print text_properties\n",
    "#     print text_synonyms\n",
    "    \n",
    "    url_w2v_server = 'http://172.16.1.5:5000/' + urllib.quote_plus(text_synonyms) + '/'+urllib.quote_plus(text_properties)\n",
    "    if log_details:\n",
    "        print \"\\nURL OF WORD2VEC SERVER:\"\n",
    "        print url_w2v_server\n",
    "        \n",
    "    response = requests.get(url_w2v_server)\n",
    "    prop_syn_avg = ast.literal_eval(response.text)\n",
    "    \n",
    "    stack_details[\"propertySynonymAvg\"] = prop_syn_avg\n",
    "    \n",
    "    prop_syn_avg = np.array(prop_syn_avg)\n",
    "    \n",
    "    if log_details:\n",
    "        print \"\\nRESPONSE FROM W2V SERVER:\"\n",
    "        print prop_syn_avg\n",
    "    \n",
    "#     for p in prop_syn_avg:\n",
    "#         print p\n",
    "    \n",
    "#     if log_details:\n",
    "#         print \"\\nSYNONYM SIMILARITIES:\"\n",
    "#         for s in sortd:\n",
    "#             print prop_syn_avg[s]\n",
    "#     keyword = prop_syn_avg[np.argmax(np.array(prop_syn_avg), 0)[1]][0]\n",
    "    \n",
    "    keyword = prop_syn_avg[np.argmax(prop_syn_avg[:,1])][0]\n",
    "    \n",
    "    stack_details[\"keyword\"] = keyword\n",
    "    json_unit[\"stackDetails\"].append(stack_details)\n",
    "    print keyword\n",
    "    for p in properties:\n",
    "        if p[0] == keyword:\n",
    "            if log_details:\n",
    "                print \"\\nKEYWORD:\"\n",
    "                print p\n",
    "            return p"
   ]
  },
  {
   "cell_type": "markdown",
   "metadata": {},
   "source": [
    "### fetch_compound(word, model)"
   ]
  },
  {
   "cell_type": "markdown",
   "metadata": {},
   "source": [
    "The function <b>\"fetch_compound\"</b> returns compound words for words from the given model after dependency parsing.\n",
    "<br/><br/>\n",
    "For example: <br/>\n",
    "If the provided word is <b>date</b>, whereas we are actually looking for <b>birth date</b> in the question, it will return so by looking up the model"
   ]
  },
  {
   "cell_type": "code",
   "execution_count": 5,
   "metadata": {
    "collapsed": true
   },
   "outputs": [],
   "source": [
    "def fetch_compound(word, model):\n",
    "    compound_word = []\n",
    "    for m in model:\n",
    "        if m[1] == u'compound' and m[0][0] == word:\n",
    "            compound_word.append(m[2][0])\n",
    "\n",
    "    compound_word.append(word)\n",
    "    return compound_word"
   ]
  },
  {
   "cell_type": "markdown",
   "metadata": {},
   "source": [
    "### call_sparql(keyword, URI, pType)"
   ]
  },
  {
   "cell_type": "markdown",
   "metadata": {},
   "source": [
    "The function <b>\"call_sparql\"</b> returns values of properties provided as keywords in the given URI.\n",
    "<br/><br/>\n",
    "For example: <br/>\n",
    "If we are looking for <b>spouse</b> of http://dbpedia.org/page/John_F._Kennedy it will return http://dbpedia.org/page/Jacqueline_Kennedy_Onassis"
   ]
  },
  {
   "cell_type": "code",
   "execution_count": 6,
   "metadata": {
    "collapsed": true
   },
   "outputs": [],
   "source": [
    "def call_sparql(keyword, URI, pType):\n",
    "    # print \"\\nCALL SPARQL:\"\n",
    "    pTypes = np.array([[u'ontology', 'dbo'],[u'property', 'dbp']])\n",
    "    \n",
    "    for p in pTypes:\n",
    "        if p[0] == pType:\n",
    "            pType = p[1]\n",
    "\n",
    "    sparql = SPARQLWrapper(\"http://dbpedia.org/sparql\")\n",
    "    query = \"\"\"\n",
    "        PREFIX rdfs: <http://www.w3.org/2000/01/rdf-schema#>\n",
    "        SELECT ?\"\"\"+ keyword +\"\"\"\n",
    "        WHERE { <\"\"\" + URI + \"\"\">\n",
    "        \"\"\"+pType+\"\"\":\"\"\"+keyword+\"\"\" ?\"\"\"+keyword+\"\"\" }\n",
    "    \"\"\"\n",
    "    if log_details:\n",
    "        print query\n",
    "        \n",
    "    sparql.setQuery(query)\n",
    "\n",
    "    sparql.setReturnFormat(JSON)\n",
    "    results = sparql.query().convert()\n",
    "    \n",
    "    return [r[keyword][\"value\"] for r in results[\"results\"][\"bindings\"]]"
   ]
  },
  {
   "cell_type": "code",
   "execution_count": 194,
   "metadata": {
    "collapsed": true
   },
   "outputs": [],
   "source": [
    "def getResources(text):\n",
    "    cookies = {\n",
    "        'JSESSIONID': 'BC9CD43D9E1AE3E7CF51E00D3A3A7702',\n",
    "    }\n",
    "\n",
    "    headers = {\n",
    "        'Origin': 'http://agdistis.aksw.org',\n",
    "        'Accept-Encoding': 'gzip, deflate',\n",
    "        'Accept-Language': 'en-GB,en-US;q=0.8,en;q=0.6',\n",
    "        'User-Agent': 'Mozilla/5.0 (X11; Linux x86_64) AppleWebKit/537.36 (KHTML, like Gecko) Chrome/58.0.3029.68 Safari/537.36',\n",
    "        'Content-Type': 'application/json;charset=UTF-8',\n",
    "        'Accept': 'application/json, text/plain, */*',\n",
    "        'Referer': 'http://agdistis.aksw.org/demo/',\n",
    "        'Connection': 'keep-alive',\n",
    "    }\n",
    "\n",
    "#     data = '{\"text\":\"[Barack Obama] arrives in [Washington, D.C.].\"}'\n",
    "    data = '{\"text\": \"'+text+'\"}'\n",
    "    response = requests.post('http://agdistis.aksw.org/demo/agdistis', headers=headers, cookies=cookies, data=data)\n",
    "\n",
    "#     print(response)\n",
    "#     print(response.text)\n",
    "    return response.json()"
   ]
  },
  {
   "cell_type": "markdown",
   "metadata": {},
   "source": [
    "### answer(question)"
   ]
  },
  {
   "cell_type": "markdown",
   "metadata": {},
   "source": [
    "The function <b>\"answer\"</b> returns an answer for a question using the functions above.\n",
    "<br/><br/>\n",
    "For example: <br/>\n",
    "If we are looking for an answer for <b>\"What was the religion of the wife of JFK?\"</b>, it should return the <b>abstract for catholic church</b>."
   ]
  },
  {
   "cell_type": "code",
   "execution_count": 229,
   "metadata": {},
   "outputs": [],
   "source": [
    "def answer(question):\n",
    "    print \"...\"\n",
    "    path_to_jar = 'stanford-corenlp-full-2017-06-09/stanford-corenlp-3.8.0.jar'\n",
    "    path_to_models_jar = 'stanford-corenlp-full-2017-06-09/stanford-corenlp-3.8.0-models.jar'\n",
    "\n",
    "    dependency_parser = StanfordDependencyParser(path_to_jar=path_to_jar,\n",
    "                                                 path_to_models_jar=path_to_models_jar)\n",
    "\n",
    "\n",
    "    json_unit = {}\n",
    "    json_unit[\"question\"] = question\n",
    "    if log_details:\n",
    "        print \"\\nQUESTION:\"\n",
    "        print question\n",
    "\n",
    "    result = dependency_parser.raw_parse(question)\n",
    "    dep = result.next()\n",
    "\n",
    "    model = list(dep.triples())\n",
    "\n",
    "    json_unit[\"model\"] = model\n",
    "    if log_details:\n",
    "        print '\\nMODEL:'\n",
    "        print model\n",
    "\n",
    "\n",
    "    URI = \"http://dbpedia.org/resource/\"\n",
    "    keyword = None\n",
    "    handle = None\n",
    "    trail = None\n",
    "    stack = []\n",
    "\n",
    "    # print models\n",
    "    for i in range(len(model)):\n",
    "        if model[i][1] == u'nsubj':\n",
    "            stack.append(model[i][2][0])\n",
    "\n",
    "    for i in range(len(model)):\n",
    "        # print model[i][0][0], stack[len(stack) - 1]\n",
    "        if model[i][0][0] == stack[len(stack) - 1] and model[i][1] == u'nmod':\n",
    "            stack.append(model[i][2][0])\n",
    "\n",
    "    json_unit[\"stack\"] = list(stack)\n",
    "    if log_details:\n",
    "        print '\\nSTACK:'\n",
    "        print stack\n",
    "    handle = stack.pop()\n",
    "    handle = fetch_compound(handle, model)\n",
    "    \n",
    "    compound = ' '.join(handle)\n",
    "    markers = [\"[\",\"]\"]\n",
    "    # markers = [\"<entity>\", \"<entity>\"] \n",
    "    text = question[:question.index(compound)] \\\n",
    "                + markers[0] + question[question.index(compound):question.index(compound)+len(compound)] + markers[1] \\\n",
    "                + question[(question.index(compound)+len(compound)):]\n",
    "    \n",
    "#     print text\n",
    "    resjson = getResources(text)\n",
    "    URI = resjson['namedEntities'][0]['disambiguatedURL']\n",
    "    json_unit[\"primaryURL\"] = {}\n",
    "    json_unit[\"primaryURL\"][\"src\"] = \"agdistis\"\n",
    "    json_unit[\"primaryURL\"][\"value\"] = URI\n",
    "#     u'': [{u'':\n",
    "#     URI = URI + '_'.join(handle)\n",
    "#     URI = redirect(URI)\n",
    "#     print URI\n",
    "    results = []\n",
    "    if len(stack) == 0:\n",
    "        results.append(URI)\n",
    "        \n",
    "    i = len(stack)\n",
    "    json_unit[\"stackDetails\"] = []\n",
    "    \n",
    "    while i > 0:\n",
    "        #if len(stack) == 0:\n",
    "        #    keyword = \"label\"\n",
    "        #else:\n",
    "        \n",
    "        trail = stack.pop()\n",
    "        keyword = fetch_compound(trail, model)\n",
    "\n",
    "        # print URI\n",
    "        keyword = ' '.join(keyword)\n",
    "        keyword = ''.join(x for x in keyword.title() if not x.isspace())\n",
    "        keyword = list(keyword)\n",
    "        keyword[0] = keyword[0].lower()\n",
    "        keyword = ''.join(keyword)\n",
    "        pair = get_closest_keyword(keyword, URI, json_unit)\n",
    "        if log_details:\n",
    "            print pair\n",
    "        keyword = pair[0]\n",
    "        pType = pair[1]\n",
    "\n",
    "        if log_details:\n",
    "            print keyword, \", \", URI\n",
    "        results = call_sparql(keyword, URI, pType)\n",
    "        if log_details:\n",
    "            print results\n",
    "\n",
    "        for res in results:\n",
    "            parsed_url = urlparse(res)\n",
    "\n",
    "            if parsed_url.scheme == u'http' or parsed_url.scheme == u'https':\n",
    "                # res = call_sparql(keyword, res)\n",
    "                URI = res\n",
    "            else:\n",
    "                break\n",
    "\n",
    "        i -= 1\n",
    "    \n",
    "    json_unit[\"answer\"] = results\n",
    "    bigJson.append(json_unit)\n",
    "    return results\n"
   ]
  },
  {
   "cell_type": "markdown",
   "metadata": {},
   "source": [
    "### Set of Questions"
   ]
  },
  {
   "cell_type": "code",
   "execution_count": 130,
   "metadata": {
    "collapsed": true
   },
   "outputs": [],
   "source": [
    "questions = [\n",
    "    'Where is the birth place of Bal Gangadhar Tilak?',\n",
    "    'What is the capital of Germany?',\n",
    "    'Who is the president of United States?',\n",
    "    'When is the birth date of Tom Cruise?',\n",
    "    'What is the color of the flag of Germany?',\n",
    "    'Who is Donald Trump?',\n",
    "    'Where is birth place of wife of Mahatma Gandhi?',\n",
    "    'Who is the vice president of John Kennedy?',\n",
    "    'What is the birth place of wife of John Kennedy?',\n",
    "    'What is the municipality of Roberto Clemente Bridge',\n",
    "    'What is the nationality of the prime minister of Thanong Bidaya?',\n",
    "    #'which are the films of Richard Gere and Julia Roberts?',\n",
    "    #'What is the party of Mumbai North?',\n",
    "    'Who is the founder of Facebook?'\n",
    "]"
   ]
  },
  {
   "cell_type": "markdown",
   "metadata": {},
   "source": [
    "### Write your question here"
   ]
  },
  {
   "cell_type": "code",
   "execution_count": 199,
   "metadata": {
    "collapsed": true
   },
   "outputs": [],
   "source": [
    "log_details = False"
   ]
  },
  {
   "cell_type": "code",
   "execution_count": 244,
   "metadata": {
    "collapsed": true
   },
   "outputs": [],
   "source": [
    "question = 'When is the birth date of JFK?'"
   ]
  },
  {
   "cell_type": "code",
   "execution_count": 238,
   "metadata": {},
   "outputs": [
    {
     "name": "stdout",
     "output_type": "stream",
     "text": [
      "...\n",
      "1917-05-29\n",
      "1917-5-29\n"
     ]
    }
   ],
   "source": [
    "results = answer(question)\n",
    "\n",
    "for res in results:\n",
    "    print res"
   ]
  },
  {
   "cell_type": "code",
   "execution_count": 250,
   "metadata": {
    "collapsed": true
   },
   "outputs": [],
   "source": [
    "bigJson = []"
   ]
  },
  {
   "cell_type": "code",
   "execution_count": 251,
   "metadata": {},
   "outputs": [
    {
     "name": "stdout",
     "output_type": "stream",
     "text": [
      "\n",
      "QUESTION: Where is the birth place of Bal Gangadhar Tilak?\n",
      "\n",
      "ANSWER:\n",
      "...\n",
      "http://dbpedia.org/resource/India\n",
      "http://dbpedia.org/resource/Ratnagiri\n",
      "http://dbpedia.org/resource/Bombay_State\n",
      "http://dbpedia.org/resource/British_India\n",
      "_____________________________\n",
      "\n",
      "QUESTION: What is the capital of Germany?\n",
      "\n",
      "ANSWER:\n",
      "...\n",
      "http://dbpedia.org/resource/Berlin\n",
      "_____________________________\n",
      "\n",
      "QUESTION: Who is the president of United States?\n",
      "\n",
      "ANSWER:\n",
      "...\n",
      "legislature\n",
      "http://dbpedia.org/resource/United_States_Congress\n",
      "_____________________________\n",
      "\n",
      "QUESTION: When is the birth date of Tom Cruise?\n",
      "\n",
      "ANSWER:\n",
      "...\n",
      "1962-07-03\n",
      "1962-7-3\n",
      "_____________________________\n",
      "\n",
      "QUESTION: What is the color of the flag of Germany?\n",
      "\n",
      "ANSWER:\n",
      "...\n",
      "leader\n",
      "http://dbpedia.org/resource/Angela_Merkel\n",
      "http://dbpedia.org/resource/Stanislaw_Tillich\n",
      "http://dbpedia.org/resource/Joachim_Gauck\n",
      "http://dbpedia.org/resource/Andreas_Voßkuhle\n",
      "http://dbpedia.org/resource/Norbert_Lammert\n",
      "_____________________________\n",
      "\n",
      "QUESTION: Who is Donald Trump?\n",
      "\n",
      "ANSWER:\n",
      "...\n",
      "http://dbpedia.org/resource/Donald_Trump\n",
      "_____________________________\n",
      "\n",
      "QUESTION: Where is birth place of wife of Mahatma Gandhi?\n",
      "\n",
      "ANSWER:\n",
      "...\n",
      "http://dbpedia.org/resource/Gujarat\n",
      "http://dbpedia.org/resource/Porbandar\n",
      "http://dbpedia.org/resource/Kathiawar_Agency\n",
      "http://dbpedia.org/resource/British_Raj\n",
      "_____________________________\n",
      "\n",
      "QUESTION: Who is the vice president of John Kennedy?\n",
      "\n",
      "ANSWER:\n",
      "...\n",
      "http://dbpedia.org/resource/Lyndon_B._Johnson\n",
      "_____________________________\n",
      "\n",
      "QUESTION: What is the birth place of wife of John Kennedy?\n",
      "\n",
      "ANSWER:\n",
      "...\n",
      "http://dbpedia.org/resource/Southampton,_New_York\n",
      "_____________________________\n",
      "\n",
      "QUESTION: What is the municipality of Roberto Clemente Bridge\n",
      "\n",
      "ANSWER:\n",
      "...\n",
      "http://dbpedia.org/resource/Pittsburgh,_Pennsylvania\n",
      "_____________________________\n",
      "\n",
      "QUESTION: What is the nationality of the prime minister of Thanong Bidaya?\n",
      "\n",
      "ANSWER:\n",
      "...\n",
      "office\n",
      "http://dbpedia.org/resource/Thailand\n",
      "_____________________________\n",
      "\n",
      "QUESTION: Who is the founder of Facebook?\n",
      "\n",
      "ANSWER:\n",
      "...\n",
      "owner\n",
      "Mark Zuckerberg\n",
      "_____________________________\n"
     ]
    }
   ],
   "source": [
    "for q in questions:\n",
    "    print \"\\nQUESTION:\", q\n",
    "    print \"\\nANSWER:\"\n",
    "    results = answer(q)\n",
    "\n",
    "    for res in results:\n",
    "        print res\n",
    "    \n",
    "    print \"_____________________________\""
   ]
  },
  {
   "cell_type": "code",
   "execution_count": 252,
   "metadata": {},
   "outputs": [
    {
     "name": "stdout",
     "output_type": "stream",
     "text": [
      "[{\"question\": \"Where is the birth place of Bal Gangadhar Tilak?\", \"stackDetails\": [{\"word\": \"birthPlace\", \"properties\": [[\"22-rdf-syntax-ns#type\", \"02\"], [\"rdf-schema#label\", \"01\"], [\"rdf-schema#comment\", \"01\"], [\"rdf-schema#seeAlso\", \"01\"], [\"owl#sameAs\", \"07\"], [\"deathPlace\", \"ontology\"], [\"deathDate\", \"ontology\"], [\"birthPlace\", \"ontology\"], [\"birthDate\", \"ontology\"], [\"subject\", \"terms\"], [\"wikiPageID\", \"ontology\"], [\"wikiPageRevisionID\", \"ontology\"], [\"wikiPageWikiLink\", \"ontology\"], [\"wikiPageExternalLink\", \"ontology\"], [\"name\", \"0.1\"], [\"depiction\", \"0.1\"], [\"description\", \"terms\"], [\"gender\", \"0.1\"], [\"isPrimaryTopicOf\", \"0.1\"], [\"thumbnail\", \"ontology\"], [\"prov#wasDerivedFrom\", \"ns\"], [\"birthYear\", \"ontology\"], [\"deathYear\", \"ontology\"], [\"ethnicity\", \"ontology\"], [\"nationality\", \"ontology\"], [\"religion\", \"ontology\"], [\"stateOfOrigin\", \"ontology\"], [\"alt\", \"property\"], [\"caption\", \"property\"], [\"movement\", \"property\"], [\"organization\", \"property\"], [\"vrank#hasRank\", \"voc\"], [\"hypernym\", \"gold\"]]}], \"answer\": [\"http://dbpedia.org/resource/India\", \"http://dbpedia.org/resource/Ratnagiri\", \"http://dbpedia.org/resource/Bombay_State\", \"http://dbpedia.org/resource/British_India\"], \"model\": [[[\"is\", \"VBZ\"], \"advmod\", [\"Where\", \"WRB\"]], [[\"is\", \"VBZ\"], \"nsubj\", [\"place\", \"NN\"]], [[\"place\", \"NN\"], \"det\", [\"the\", \"DT\"]], [[\"place\", \"NN\"], \"compound\", [\"birth\", \"NN\"]], [[\"place\", \"NN\"], \"nmod\", [\"Tilak\", \"NNP\"]], [[\"Tilak\", \"NNP\"], \"case\", [\"of\", \"IN\"]], [[\"Tilak\", \"NNP\"], \"compound\", [\"Bal\", \"NNP\"]], [[\"Tilak\", \"NNP\"], \"compound\", [\"Gangadhar\", \"NNP\"]]], \"stack\": [\"place\", \"Tilak\"], \"primaryURL\": {\"src\": \"agdistis\", \"value\": \"http://dbpedia.org/resource/Bal_Gangadhar_Tilak\"}}, {\"question\": \"What is the capital of Germany?\", \"stackDetails\": [{\"word\": \"capital\", \"properties\": [[\"22-rdf-syntax-ns#type\", \"02\"], [\"rdf-schema#label\", \"01\"], [\"rdf-schema#comment\", \"01\"], [\"rdf-schema#seeAlso\", \"01\"], [\"owl#sameAs\", \"07\"], [\"subject\", \"terms\"], [\"wikiPageID\", \"ontology\"], [\"wikiPageRevisionID\", \"ontology\"], [\"wikiPageWikiLink\", \"ontology\"], [\"wikiPageExternalLink\", \"ontology\"], [\"name\", \"0.1\"], [\"homepage\", \"0.1\"], [\"core#exactMatch\", \"skos\"], [\"wgs84_pos#lat\", \"geo\"], [\"wgs84_pos#long\", \"geo\"], [\"depiction\", \"0.1\"], [\"isPrimaryTopicOf\", \"0.1\"], [\"wgs84_pos#geometry\", \"geo\"], [\"thumbnail\", \"ontology\"], [\"prov#wasDerivedFrom\", \"ns\"], [\"areaTotal\", \"PopulatedPlace\"], [\"populationDensity\", \"PopulatedPlace\"], [\"anthem\", \"ontology\"], [\"areaTotal\", \"ontology\"], [\"capital\", \"ontology\"], [\"currency\", \"ontology\"], [\"demonym\", \"ontology\"], [\"flag\", \"ontology\"], [\"foundingDate\", \"ontology\"], [\"governmentType\", \"ontology\"], [\"language\", \"ontology\"], [\"largestCity\", \"ontology\"], [\"leader\", \"ontology\"], [\"leaderTitle\", \"ontology\"], [\"longName\", \"ontology\"], [\"officialLanguage\", \"ontology\"], [\"populationDensity\", \"ontology\"], [\"populationTotal\", \"ontology\"], [\"point\", \"georss\"], [\"align\", \"property\"], [\"areaMagnitude\", \"property\"], [\"areaRank\", \"property\"], [\"callingCode\", \"property\"], [\"caption\", \"property\"], [\"cctld\", \"property\"], [\"currencyCode\", \"property\"], [\"direction\", \"property\"], [\"drivesOn\", \"property\"], [\"establishedDate\", \"property\"], [\"establishedEvent\", \"property\"], [\"footer\", \"property\"], [\"footnoteA\", \"property\"], [\"gdpNominal\", \"property\"], [\"gdpNominalPerCapita\", \"property\"], [\"gdpNominalPerCapitaRank\", \"property\"], [\"gdpNominalRank\", \"property\"], [\"gdpNominalYear\", \"property\"], [\"gdpPpp\", \"property\"], [\"gdpPppPerCapita\", \"property\"], [\"gdpPppPerCapitaRank\", \"property\"], [\"gdpPppRank\", \"property\"], [\"gdpPppYear\", \"property\"], [\"gini\", \"property\"], [\"giniChange\", \"property\"], [\"giniYear\", \"property\"], [\"hdi\", \"property\"], [\"hdiChange\", \"property\"], [\"hdiRank\", \"property\"], [\"hdiYear\", \"property\"], [\"image\", \"property\"], [\"imageCoat\", \"property\"], [\"imageMap\", \"property\"], [\"latd\", \"property\"], [\"latm\", \"property\"], [\"latns\", \"property\"], [\"longd\", \"property\"], [\"longew\", \"property\"], [\"longm\", \"property\"], [\"lowerHouse\", \"property\"], [\"map2Width\", \"property\"], [\"populationDensityRank\", \"property\"], [\"populationEstimateRank\", \"property\"], [\"populationEstimateYear\", \"property\"], [\"sovereigntyType\", \"property\"], [\"timeZone\", \"property\"], [\"timeZoneDst\", \"property\"], [\"title\", \"property\"], [\"upperHouse\", \"property\"], [\"utcOffset\", \"property\"], [\"utcOffsetDst\", \"property\"], [\"width\", \"property\"], [\"vrank#hasRank\", \"voc\"], [\"hypernym\", \"gold\"]]}], \"answer\": [\"http://dbpedia.org/resource/Berlin\"], \"model\": [[[\"What\", \"WP\"], \"cop\", [\"is\", \"VBZ\"]], [[\"What\", \"WP\"], \"nsubj\", [\"capital\", \"NN\"]], [[\"capital\", \"NN\"], \"det\", [\"the\", \"DT\"]], [[\"capital\", \"NN\"], \"nmod\", [\"Germany\", \"NNP\"]], [[\"Germany\", \"NNP\"], \"case\", [\"of\", \"IN\"]]], \"stack\": [\"capital\", \"Germany\"], \"primaryURL\": {\"src\": \"agdistis\", \"value\": \"http://dbpedia.org/resource/Germany\"}}, {\"question\": \"Who is the president of United States?\", \"stackDetails\": [{\"propertySynonymAvg\": [[\"date\", -0.0034004990586160373], [\"gini\", -0.018267268405893728], [\"width\", -1.0905736603395422e-05], [\"hdi\", 0.0], [\"giniYear\", 0.0], [\"gdpPppYear\", 0.0], [\"gdpPppRank\", 0.0], [\"gdpPppPerCapitaRank\", 0.0], [\"gdpPppPerCapita\", 0.0], [\"gdpPpp\", 0.0], [\"gdpNominalYear\", 0.0], [\"gdpNominalRank\", 0.0], [\"gdpNominalPerCapitaRank\", 0.0], [\"gdpNominalPerCapita\", 0.0], [\"gdpNominal\", 0.0], [\"footnoteE\", 0.0], [\"footnoteD\", 0.0], [\"footnoteC\", 0.0], [\"footnoteB\", 0.0], [\"footnoteA\", 0.0], [\"establishedEvent\", 0.0], [\"establishedDate\", 0.0], [\"efYear\", 0.0], [\"efRank\", 0.0], [\"vrank#hasRank\", 0.0], [\"hdiChange\", 0.0], [\"hdiRank\", 0.0], [\"\", 0.0], [\"imageCoat\", 0.0], [\"utcOffsetDst\", 0.0], [\"utcOffset\", 0.0], [\"upperHouse\", 0.0], [\"symbolType\", 0.0], [\"sovereigntyType\", 0.0], [\"populationEstimateYear\", 0.0], [\"populationEstimateRank\", 0.0], [\"populationDensityRank\", 0.0], [\"populationCensusYear\", 0.0], [\"populationCensusRank\", 0.0], [\"populationCensus\", 0.0], [\"dateFormat\", 0.0], [\"officialReligion\", 0.0], [\"mapCaption\", 0.0], [\"lowerHouse\", 0.0], [\"longm\", 0.0], [\"longew\", 0.0], [\"longd\", 0.0], [\"latns\", 0.0], [\"latm\", 0.0], [\"latd\", 0.0], [\"languagesType\", 0.0], [\"iso3166code\", 0.0], [\"imageMap\", 0.0], [\"mapWidth\", 0.0], [\"hdiYear\", 0.0], [\"drivesOn\", 0.0], [\"hypernym\", 0.0], [\"largestCity\", 0.0], [\"owl#sameAs\", 0.0], [\"governmentType\", 0.0], [\"foundingDate\", 0.0], [\"currencyCode\", 0.0], [\"ethnicGroup\", 0.0], [\"demonym\", 0.0], [\"wikiPageID\", 0.0], [\"areaTotal\", 0.0], [\"wikiPageRevisionID\", 0.0], [\"populationDensity\", 0.0], [\"areaTotal\", 0.0], [\"wikiPageWikiLink\", 0.0], [\"prov#wasDerivedFrom\", 0.0], [\"wgs84_pos#geometry\", 0.0], [\"isPrimaryTopicOf\", 0.0], [\"wgs84_pos#long\", 0.0], [\"wgs84_pos#lat\", 0.0], [\"leaderTitle\", 0.0], [\"rdf-schema#seeAlso\", 0.0], [\"rdf-schema#comment\", 0.0], [\"22-rdf-syntax-ns#type\", 0.0], [\"countryCode\", 0.0], [\"cctld\", 0.0], [\"callingCode\", 0.0], [\"areaRank\", 0.0], [\"areaMagnitude\", 0.0], [\"longName\", 0.0], [\"areaData\", 0.0], [\"altMap\", 0.0], [\"areaLabel\", 0.0], [\"footnoteF\", 0.0], [\"populationTotal\", 0.0], [\"populationDensity\", 0.0], [\"percentageOfAreaWater\", 0.0], [\"officialLanguage\", 0.0], [\"rdf-schema#label\", 0.0], [\"wikiPageExternalLink\", 0.0], [\"subject\", 0.0009075798250957628], [\"ef\", 0.01628808538855276], [\"thumbnail\", 0.016388060445855793], [\"height\", 0.02340400813016139], [\"caption\", 0.023908888473881396], [\"depiction\", 0.026399061652314204], [\"point\", 0.034065942987661094], [\"image\", 0.03747213115315868], [\"reason\", 0.039235274175758235], [\"align\", 0.04200147918544921], [\"homepage\", 0.04225203737353111], [\"language\", 0.042860921202887314], [\"currency\", 0.04805711923655608], [\"anthem\", 0.0540283046672366], [\"name\", 0.05612251914654336], [\"flag\", 0.0710188685054738], [\"motto\", 0.0846030344244619], [\"direction\", 0.09648791739282443], [\"capital\", 0.09755403566992696], [\"leader\", 0.13418758035068423], [\"legislature\", 0.1449874667350068]], \"synonyms\": [[\"head of state\", \"head_of_state\"], [\"chief of state\", \"chief_of_state\"], [\"elected head of a country\", \"elected_head_of_a_country\"], [\"president\", \"president\"]], \"word\": \"president\", \"properties\": [[\"22-rdf-syntax-ns#type\", \"02\"], [\"rdf-schema#label\", \"01\"], [\"rdf-schema#comment\", \"01\"], [\"rdf-schema#seeAlso\", \"01\"], [\"owl#sameAs\", \"07\"], [\"subject\", \"terms\"], [\"wikiPageID\", \"ontology\"], [\"wikiPageRevisionID\", \"ontology\"], [\"wikiPageWikiLink\", \"ontology\"], [\"wikiPageExternalLink\", \"ontology\"], [\"name\", \"0.1\"], [\"homepage\", \"0.1\"], [\"wgs84_pos#lat\", \"geo\"], [\"wgs84_pos#long\", \"geo\"], [\"depiction\", \"0.1\"], [\"isPrimaryTopicOf\", \"0.1\"], [\"wgs84_pos#geometry\", \"geo\"], [\"thumbnail\", \"ontology\"], [\"prov#wasDerivedFrom\", \"ns\"], [\"areaTotal\", \"PopulatedPlace\"], [\"populationDensity\", \"PopulatedPlace\"], [\"anthem\", \"ontology\"], [\"areaTotal\", \"ontology\"], [\"capital\", \"ontology\"], [\"demonym\", \"ontology\"], [\"ethnicGroup\", \"ontology\"], [\"flag\", \"ontology\"], [\"foundingDate\", \"ontology\"], [\"governmentType\", \"ontology\"], [\"language\", \"ontology\"], [\"largestCity\", \"ontology\"], [\"leader\", \"ontology\"], [\"leaderTitle\", \"ontology\"], [\"longName\", \"ontology\"], [\"motto\", \"ontology\"], [\"officialLanguage\", \"ontology\"], [\"percentageOfAreaWater\", \"ontology\"], [\"populationDensity\", \"ontology\"], [\"populationTotal\", \"ontology\"], [\"footnoteF\", \"property\"], [\"point\", \"georss\"], [\"align\", \"property\"], [\"altMap\", \"property\"], [\"areaData\", \"property\"], [\"areaLabel\", \"property\"], [\"areaMagnitude\", \"property\"], [\"areaRank\", \"property\"], [\"callingCode\", \"property\"], [\"caption\", \"property\"], [\"cctld\", \"property\"], [\"countryCode\", \"property\"], [\"currency\", \"property\"], [\"currencyCode\", \"property\"], [\"date\", \"property\"], [\"dateFormat\", \"property\"], [\"direction\", \"property\"], [\"drivesOn\", \"property\"], [\"ef\", \"property\"], [\"efRank\", \"property\"], [\"efYear\", \"property\"], [\"establishedDate\", \"property\"], [\"establishedEvent\", \"property\"], [\"footnoteA\", \"property\"], [\"footnoteB\", \"property\"], [\"footnoteC\", \"property\"], [\"footnoteD\", \"property\"], [\"footnoteE\", \"property\"], [\"gdpNominal\", \"property\"], [\"gdpNominalPerCapita\", \"property\"], [\"gdpNominalPerCapitaRank\", \"property\"], [\"gdpNominalRank\", \"property\"], [\"gdpNominalYear\", \"property\"], [\"gdpPpp\", \"property\"], [\"gdpPppPerCapita\", \"property\"], [\"gdpPppPerCapitaRank\", \"property\"], [\"gdpPppRank\", \"property\"], [\"gdpPppYear\", \"property\"], [\"gini\", \"property\"], [\"giniYear\", \"property\"], [\"hdi\", \"property\"], [\"hdiChange\", \"property\"], [\"hdiRank\", \"property\"], [\"hdiYear\", \"property\"], [\"height\", \"property\"], [\"image\", \"property\"], [\"imageCoat\", \"property\"], [\"imageMap\", \"property\"], [\"iso3166code\", \"property\"], [\"languagesType\", \"property\"], [\"latd\", \"property\"], [\"latm\", \"property\"], [\"latns\", \"property\"], [\"legislature\", \"property\"], [\"longd\", \"property\"], [\"longew\", \"property\"], [\"longm\", \"property\"], [\"lowerHouse\", \"property\"], [\"mapCaption\", \"property\"], [\"mapWidth\", \"property\"], [\"officialReligion\", \"property\"], [\"populationCensus\", \"property\"], [\"populationCensusRank\", \"property\"], [\"populationCensusYear\", \"property\"], [\"populationDensityRank\", \"property\"], [\"populationEstimateRank\", \"property\"], [\"populationEstimateYear\", \"property\"], [\"reason\", \"property\"], [\"sovereigntyType\", \"property\"], [\"symbolType\", \"property\"], [\"upperHouse\", \"property\"], [\"utcOffset\", \"property\"], [\"utcOffsetDst\", \"property\"], [\"width\", \"property\"], [\"vrank#hasRank\", \"voc\"], [\"hypernym\", \"gold\"]], \"keyword\": \"legislature\"}], \"answer\": [\"http://dbpedia.org/resource/United_States_Congress\"], \"model\": [[[\"Who\", \"WP\"], \"cop\", [\"is\", \"VBZ\"]], [[\"Who\", \"WP\"], \"nsubj\", [\"president\", \"NN\"]], [[\"president\", \"NN\"], \"det\", [\"the\", \"DT\"]], [[\"president\", \"NN\"], \"nmod\", [\"States\", \"NNPS\"]], [[\"States\", \"NNPS\"], \"case\", [\"of\", \"IN\"]], [[\"States\", \"NNPS\"], \"compound\", [\"United\", \"NNP\"]]], \"stack\": [\"president\", \"States\"], \"primaryURL\": {\"src\": \"agdistis\", \"value\": \"http://dbpedia.org/resource/United_States\"}}, {\"question\": \"When is the birth date of Tom Cruise?\", \"stackDetails\": [{\"word\": \"birthDate\", \"properties\": [[\"22-rdf-syntax-ns#type\", \"02\"], [\"rdf-schema#label\", \"01\"], [\"rdf-schema#comment\", \"01\"], [\"owl#sameAs\", \"07\"], [\"birthPlace\", \"ontology\"], [\"birthDate\", \"ontology\"], [\"subject\", \"terms\"], [\"wikiPageID\", \"ontology\"], [\"wikiPageRevisionID\", \"ontology\"], [\"wikiPageWikiLink\", \"ontology\"], [\"wikiPageExternalLink\", \"ontology\"], [\"name\", \"0.1\"], [\"homepage\", \"0.1\"], [\"depiction\", \"0.1\"], [\"description\", \"terms\"], [\"givenName\", \"0.1\"], [\"gender\", \"0.1\"], [\"isPrimaryTopicOf\", \"0.1\"], [\"thumbnail\", \"ontology\"], [\"prov#wasDerivedFrom\", \"ns\"], [\"activeYearsStartYear\", \"ontology\"], [\"birthName\", \"ontology\"], [\"birthYear\", \"ontology\"], [\"occupation\", \"ontology\"], [\"relative\", \"ontology\"], [\"religion\", \"ontology\"], [\"spouse\", \"ontology\"], [\"b\", \"property\"], [\"caption\", \"property\"], [\"children\", \"property\"], [\"commons\", \"property\"], [\"display\", \"property\"], [\"n\", \"property\"], [\"q\", \"property\"], [\"s\", \"property\"], [\"species\", \"property\"], [\"title\", \"property\"], [\"v\", \"property\"], [\"wikt\", \"property\"], [\"wordnet_type\", \"property\"], [\"vrank#hasRank\", \"voc\"], [\"hypernym\", \"gold\"]]}], \"answer\": [\"1962-07-03\", \"1962-7-3\"], \"model\": [[[\"is\", \"VBZ\"], \"advmod\", [\"When\", \"WRB\"]], [[\"is\", \"VBZ\"], \"nsubj\", [\"date\", \"NN\"]], [[\"date\", \"NN\"], \"det\", [\"the\", \"DT\"]], [[\"date\", \"NN\"], \"compound\", [\"birth\", \"NN\"]], [[\"date\", \"NN\"], \"nmod\", [\"Cruise\", \"NNP\"]], [[\"Cruise\", \"NNP\"], \"case\", [\"of\", \"IN\"]], [[\"Cruise\", \"NNP\"], \"compound\", [\"Tom\", \"NNP\"]]], \"stack\": [\"date\", \"Cruise\"], \"primaryURL\": {\"src\": \"agdistis\", \"value\": \"http://dbpedia.org/resource/Tom_Cruise\"}}, {\"question\": \"What is the color of the flag of Germany?\", \"stackDetails\": [{\"word\": \"flag\", \"properties\": [[\"22-rdf-syntax-ns#type\", \"02\"], [\"rdf-schema#label\", \"01\"], [\"rdf-schema#comment\", \"01\"], [\"rdf-schema#seeAlso\", \"01\"], [\"owl#sameAs\", \"07\"], [\"subject\", \"terms\"], [\"wikiPageID\", \"ontology\"], [\"wikiPageRevisionID\", \"ontology\"], [\"wikiPageWikiLink\", \"ontology\"], [\"wikiPageExternalLink\", \"ontology\"], [\"name\", \"0.1\"], [\"homepage\", \"0.1\"], [\"core#exactMatch\", \"skos\"], [\"wgs84_pos#lat\", \"geo\"], [\"wgs84_pos#long\", \"geo\"], [\"depiction\", \"0.1\"], [\"isPrimaryTopicOf\", \"0.1\"], [\"wgs84_pos#geometry\", \"geo\"], [\"thumbnail\", \"ontology\"], [\"prov#wasDerivedFrom\", \"ns\"], [\"areaTotal\", \"PopulatedPlace\"], [\"populationDensity\", \"PopulatedPlace\"], [\"anthem\", \"ontology\"], [\"areaTotal\", \"ontology\"], [\"capital\", \"ontology\"], [\"currency\", \"ontology\"], [\"demonym\", \"ontology\"], [\"flag\", \"ontology\"], [\"foundingDate\", \"ontology\"], [\"governmentType\", \"ontology\"], [\"language\", \"ontology\"], [\"largestCity\", \"ontology\"], [\"leader\", \"ontology\"], [\"leaderTitle\", \"ontology\"], [\"longName\", \"ontology\"], [\"officialLanguage\", \"ontology\"], [\"populationDensity\", \"ontology\"], [\"populationTotal\", \"ontology\"], [\"point\", \"georss\"], [\"align\", \"property\"], [\"areaMagnitude\", \"property\"], [\"areaRank\", \"property\"], [\"callingCode\", \"property\"], [\"caption\", \"property\"], [\"cctld\", \"property\"], [\"currencyCode\", \"property\"], [\"direction\", \"property\"], [\"drivesOn\", \"property\"], [\"establishedDate\", \"property\"], [\"establishedEvent\", \"property\"], [\"footer\", \"property\"], [\"footnoteA\", \"property\"], [\"gdpNominal\", \"property\"], [\"gdpNominalPerCapita\", \"property\"], [\"gdpNominalPerCapitaRank\", \"property\"], [\"gdpNominalRank\", \"property\"], [\"gdpNominalYear\", \"property\"], [\"gdpPpp\", \"property\"], [\"gdpPppPerCapita\", \"property\"], [\"gdpPppPerCapitaRank\", \"property\"], [\"gdpPppRank\", \"property\"], [\"gdpPppYear\", \"property\"], [\"gini\", \"property\"], [\"giniChange\", \"property\"], [\"giniYear\", \"property\"], [\"hdi\", \"property\"], [\"hdiChange\", \"property\"], [\"hdiRank\", \"property\"], [\"hdiYear\", \"property\"], [\"image\", \"property\"], [\"imageCoat\", \"property\"], [\"imageMap\", \"property\"], [\"latd\", \"property\"], [\"latm\", \"property\"], [\"latns\", \"property\"], [\"longd\", \"property\"], [\"longew\", \"property\"], [\"longm\", \"property\"], [\"lowerHouse\", \"property\"], [\"map2Width\", \"property\"], [\"populationDensityRank\", \"property\"], [\"populationEstimateRank\", \"property\"], [\"populationEstimateYear\", \"property\"], [\"sovereigntyType\", \"property\"], [\"timeZone\", \"property\"], [\"timeZoneDst\", \"property\"], [\"title\", \"property\"], [\"upperHouse\", \"property\"], [\"utcOffset\", \"property\"], [\"utcOffsetDst\", \"property\"], [\"width\", \"property\"], [\"vrank#hasRank\", \"voc\"], [\"hypernym\", \"gold\"]]}, {\"propertySynonymAvg\": [[\"capital\", -0.03988107140721031], [\"\", 0.0], [\"hdi\", 0.0], [\"giniYear\", 0.0], [\"giniChange\", 0.0], [\"gdpPppYear\", 0.0], [\"gdpPppRank\", 0.0], [\"gdpPppPerCapitaRank\", 0.0], [\"gdpPppPerCapita\", 0.0], [\"hdiChange\", 0.0], [\"gdpPpp\", 0.0], [\"gdpNominalRank\", 0.0], [\"gdpNominalPerCapitaRank\", 0.0], [\"gdpNominalPerCapita\", 0.0], [\"gdpNominal\", 0.0], [\"footnoteA\", 0.0], [\"establishedEvent\", 0.0], [\"establishedDate\", 0.0], [\"drivesOn\", 0.0], [\"gdpNominalYear\", 0.0], [\"vrank#hasRank\", 0.0], [\"hdiRank\", 0.0], [\"imageCoat\", 0.0], [\"utcOffsetDst\", 0.0], [\"utcOffset\", 0.0], [\"upperHouse\", 0.0], [\"timeZoneDst\", 0.0], [\"timeZone\", 0.0], [\"sovereigntyType\", 0.0], [\"populationEstimateYear\", 0.0], [\"populationEstimateRank\", 0.0], [\"hdiYear\", 0.0], [\"populationDensityRank\", 0.0], [\"lowerHouse\", 0.0], [\"longm\", 0.0], [\"longew\", 0.0], [\"longd\", 0.0], [\"latns\", 0.0], [\"latm\", 0.0], [\"latd\", 0.0], [\"imageMap\", 0.0], [\"map2Width\", 0.0], [\"cctld\", 0.0], [\"currencyCode\", 0.0], [\"areaTotal\", 0.0], [\"callingCode\", 0.0], [\"prov#wasDerivedFrom\", 0.0], [\"wgs84_pos#geometry\", 0.0], [\"isPrimaryTopicOf\", 0.0], [\"wgs84_pos#long\", 0.0], [\"wgs84_pos#lat\", 0.0], [\"core#exactMatch\", 0.0], [\"populationDensity\", 0.0], [\"wikiPageExternalLink\", 0.0], [\"wikiPageRevisionID\", 0.0], [\"wikiPageID\", 0.0], [\"owl#sameAs\", 0.0], [\"rdf-schema#seeAlso\", 0.0], [\"rdf-schema#comment\", 0.0], [\"rdf-schema#label\", 0.0], [\"22-rdf-syntax-ns#type\", 0.0], [\"wikiPageWikiLink\", 0.0], [\"areaTotal\", 0.0], [\"hypernym\", 0.0], [\"officialLanguage\", 0.0], [\"demonym\", 0.0], [\"longName\", 0.0], [\"areaRank\", 0.0], [\"foundingDate\", 0.0], [\"governmentType\", 0.0], [\"areaMagnitude\", 0.0], [\"populationDensity\", 0.0], [\"largestCity\", 0.0], [\"populationTotal\", 0.0], [\"leaderTitle\", 0.0], [\"title\", 0.02563839009868229], [\"footer\", 0.03038927249004339], [\"align\", 0.03301109797221842], [\"currency\", 0.037953515606202144], [\"gini\", 0.044018769497520246], [\"anthem\", 0.04486651415106804], [\"caption\", 0.05995236196164122], [\"homepage\", 0.06763941151368548], [\"point\", 0.06793498229731057], [\"name\", 0.06957097088417122], [\"subject\", 0.0803679872103636], [\"direction\", 0.08203959298789301], [\"language\", 0.0874694537427927], [\"flag\", 0.0902206954999172], [\"depiction\", 0.10145786278579091], [\"thumbnail\", 0.1065480291816685], [\"image\", 0.1416271964906906], [\"width\", 0.16145216369900883], [\"leader\", 7.055386347333396e-05]], \"synonyms\": false, \"word\": \"color\", \"properties\": [[\"22-rdf-syntax-ns#type\", \"02\"], [\"rdf-schema#label\", \"01\"], [\"rdf-schema#comment\", \"01\"], [\"rdf-schema#seeAlso\", \"01\"], [\"owl#sameAs\", \"07\"], [\"subject\", \"terms\"], [\"wikiPageID\", \"ontology\"], [\"wikiPageRevisionID\", \"ontology\"], [\"wikiPageWikiLink\", \"ontology\"], [\"wikiPageExternalLink\", \"ontology\"], [\"name\", \"0.1\"], [\"homepage\", \"0.1\"], [\"core#exactMatch\", \"skos\"], [\"wgs84_pos#lat\", \"geo\"], [\"wgs84_pos#long\", \"geo\"], [\"depiction\", \"0.1\"], [\"isPrimaryTopicOf\", \"0.1\"], [\"wgs84_pos#geometry\", \"geo\"], [\"thumbnail\", \"ontology\"], [\"prov#wasDerivedFrom\", \"ns\"], [\"areaTotal\", \"PopulatedPlace\"], [\"populationDensity\", \"PopulatedPlace\"], [\"anthem\", \"ontology\"], [\"areaTotal\", \"ontology\"], [\"capital\", \"ontology\"], [\"currency\", \"ontology\"], [\"demonym\", \"ontology\"], [\"flag\", \"ontology\"], [\"foundingDate\", \"ontology\"], [\"governmentType\", \"ontology\"], [\"language\", \"ontology\"], [\"largestCity\", \"ontology\"], [\"leader\", \"ontology\"], [\"leaderTitle\", \"ontology\"], [\"longName\", \"ontology\"], [\"officialLanguage\", \"ontology\"], [\"populationDensity\", \"ontology\"], [\"populationTotal\", \"ontology\"], [\"point\", \"georss\"], [\"align\", \"property\"], [\"areaMagnitude\", \"property\"], [\"areaRank\", \"property\"], [\"callingCode\", \"property\"], [\"caption\", \"property\"], [\"cctld\", \"property\"], [\"currencyCode\", \"property\"], [\"direction\", \"property\"], [\"drivesOn\", \"property\"], [\"establishedDate\", \"property\"], [\"establishedEvent\", \"property\"], [\"footer\", \"property\"], [\"footnoteA\", \"property\"], [\"gdpNominal\", \"property\"], [\"gdpNominalPerCapita\", \"property\"], [\"gdpNominalPerCapitaRank\", \"property\"], [\"gdpNominalRank\", \"property\"], [\"gdpNominalYear\", \"property\"], [\"gdpPpp\", \"property\"], [\"gdpPppPerCapita\", \"property\"], [\"gdpPppPerCapitaRank\", \"property\"], [\"gdpPppRank\", \"property\"], [\"gdpPppYear\", \"property\"], [\"gini\", \"property\"], [\"giniChange\", \"property\"], [\"giniYear\", \"property\"], [\"hdi\", \"property\"], [\"hdiChange\", \"property\"], [\"hdiRank\", \"property\"], [\"hdiYear\", \"property\"], [\"image\", \"property\"], [\"imageCoat\", \"property\"], [\"imageMap\", \"property\"], [\"latd\", \"property\"], [\"latm\", \"property\"], [\"latns\", \"property\"], [\"longd\", \"property\"], [\"longew\", \"property\"], [\"longm\", \"property\"], [\"lowerHouse\", \"property\"], [\"map2Width\", \"property\"], [\"populationDensityRank\", \"property\"], [\"populationEstimateRank\", \"property\"], [\"populationEstimateYear\", \"property\"], [\"sovereigntyType\", \"property\"], [\"timeZone\", \"property\"], [\"timeZoneDst\", \"property\"], [\"title\", \"property\"], [\"upperHouse\", \"property\"], [\"utcOffset\", \"property\"], [\"utcOffsetDst\", \"property\"], [\"width\", \"property\"], [\"vrank#hasRank\", \"voc\"], [\"hypernym\", \"gold\"]], \"keyword\": \"leader\"}], \"answer\": [\"http://dbpedia.org/resource/Angela_Merkel\", \"http://dbpedia.org/resource/Stanislaw_Tillich\", \"http://dbpedia.org/resource/Joachim_Gauck\", \"http://dbpedia.org/resource/Andreas_Vo\\u00dfkuhle\", \"http://dbpedia.org/resource/Norbert_Lammert\"], \"model\": [[[\"What\", \"WP\"], \"cop\", [\"is\", \"VBZ\"]], [[\"What\", \"WP\"], \"nsubj\", [\"color\", \"NN\"]], [[\"color\", \"NN\"], \"det\", [\"the\", \"DT\"]], [[\"color\", \"NN\"], \"nmod\", [\"flag\", \"NN\"]], [[\"flag\", \"NN\"], \"case\", [\"of\", \"IN\"]], [[\"flag\", \"NN\"], \"det\", [\"the\", \"DT\"]], [[\"flag\", \"NN\"], \"nmod\", [\"Germany\", \"NNP\"]], [[\"Germany\", \"NNP\"], \"case\", [\"of\", \"IN\"]]], \"stack\": [\"color\", \"flag\", \"Germany\"], \"primaryURL\": {\"src\": \"agdistis\", \"value\": \"http://dbpedia.org/resource/Germany\"}}, {\"question\": \"Who is Donald Trump?\", \"stackDetails\": [], \"answer\": [\"http://dbpedia.org/resource/Donald_Trump\"], \"model\": [[[\"Who\", \"WP\"], \"cop\", [\"is\", \"VBZ\"]], [[\"Who\", \"WP\"], \"nsubj\", [\"Trump\", \"NNP\"]], [[\"Trump\", \"NNP\"], \"compound\", [\"Donald\", \"NNP\"]]], \"stack\": [\"Trump\"], \"primaryURL\": {\"src\": \"agdistis\", \"value\": \"http://dbpedia.org/resource/Donald_Trump\"}}, {\"question\": \"Where is birth place of wife of Mahatma Gandhi?\", \"stackDetails\": [{\"synonyms\": [[\"spouse\", \"spouse\"], [\"partner\", \"partner\"], [\"mate\", \"mate\"], [\"consort\", \"consort\"], [\"woman\", \"woman\"], [\"bride\", \"bride\"], [\"wife\", \"wife\"]], \"word\": \"wife\", \"properties\": [[\"22-rdf-syntax-ns#type\", \"02\"], [\"rdf-schema#label\", \"01\"], [\"rdf-schema#comment\", \"01\"], [\"rdf-schema#seeAlso\", \"01\"], [\"owl#sameAs\", \"07\"], [\"deathPlace\", \"ontology\"], [\"deathDate\", \"ontology\"], [\"birthPlace\", \"ontology\"], [\"birthDate\", \"ontology\"], [\"subject\", \"terms\"], [\"wikiPageID\", \"ontology\"], [\"wikiPageRevisionID\", \"ontology\"], [\"wikiPageWikiLink\", \"ontology\"], [\"wikiPageExternalLink\", \"ontology\"], [\"name\", \"0.1\"], [\"name\", \"property\"], [\"depiction\", \"0.1\"], [\"description\", \"terms\"], [\"givenName\", \"0.1\"], [\"gender\", \"0.1\"], [\"isPrimaryTopicOf\", \"0.1\"], [\"surname\", \"0.1\"], [\"thumbnail\", \"ontology\"], [\"prov#wasDerivedFrom\", \"ns\"], [\"alias\", \"ontology\"], [\"almaMater\", \"ontology\"], [\"birthName\", \"ontology\"], [\"birthYear\", \"ontology\"], [\"child\", \"ontology\"], [\"deathCause\", \"ontology\"], [\"deathYear\", \"ontology\"], [\"education\", \"ontology\"], [\"ethnicity\", \"ontology\"], [\"knownFor\", \"ontology\"], [\"nationality\", \"ontology\"], [\"religion\", \"ontology\"], [\"restingPlace\", \"ontology\"], [\"spouse\", \"ontology\"], [\"stateOfOrigin\", \"ontology\"], [\"alt\", \"property\"], [\"author\", \"property\"], [\"b\", \"property\"], [\"d\", \"property\"], [\"display\", \"property\"], [\"expiry\", \"property\"], [\"father\", \"property\"], [\"honorificPrefix\", \"property\"], [\"id\", \"property\"], [\"mother\", \"property\"], [\"movement\", \"property\"], [\"n\", \"property\"], [\"signature\", \"property\"], [\"small\", \"property\"], [\"title\", \"property\"], [\"v\", \"property\"], [\"voy\", \"property\"], [\"wikt\", \"property\"], [\"vrank#hasRank\", \"voc\"], [\"hypernym\", \"gold\"]]}, {\"word\": \"birthPlace\", \"properties\": [[\"22-rdf-syntax-ns#type\", \"02\"], [\"rdf-schema#label\", \"01\"], [\"rdf-schema#comment\", \"01\"], [\"owl#sameAs\", \"07\"], [\"deathPlace\", \"ontology\"], [\"deathDate\", \"ontology\"], [\"birthPlace\", \"ontology\"], [\"birthDate\", \"ontology\"], [\"subject\", \"terms\"], [\"wikiPageID\", \"ontology\"], [\"wikiPageRevisionID\", \"ontology\"], [\"wikiPageWikiLink\", \"ontology\"], [\"wikiPageExternalLink\", \"ontology\"], [\"name\", \"0.1\"], [\"depiction\", \"0.1\"], [\"description\", \"terms\"], [\"gender\", \"0.1\"], [\"isPrimaryTopicOf\", \"0.1\"], [\"thumbnail\", \"ontology\"], [\"prov#wasDerivedFrom\", \"ns\"], [\"birthYear\", \"ontology\"], [\"deathYear\", \"ontology\"], [\"knownFor\", \"ontology\"], [\"religion\", \"ontology\"], [\"vrank#hasRank\", \"voc\"], [\"hypernym\", \"gold\"]]}], \"answer\": [\"http://dbpedia.org/resource/Gujarat\", \"http://dbpedia.org/resource/Porbandar\", \"http://dbpedia.org/resource/Kathiawar_Agency\", \"http://dbpedia.org/resource/British_Raj\"], \"model\": [[[\"is\", \"VBZ\"], \"advmod\", [\"Where\", \"WRB\"]], [[\"is\", \"VBZ\"], \"nsubj\", [\"place\", \"NN\"]], [[\"place\", \"NN\"], \"compound\", [\"birth\", \"NN\"]], [[\"place\", \"NN\"], \"nmod\", [\"wife\", \"NN\"]], [[\"wife\", \"NN\"], \"case\", [\"of\", \"IN\"]], [[\"wife\", \"NN\"], \"nmod\", [\"Gandhi\", \"NNP\"]], [[\"Gandhi\", \"NNP\"], \"case\", [\"of\", \"IN\"]], [[\"Gandhi\", \"NNP\"], \"compound\", [\"Mahatma\", \"NNP\"]]], \"stack\": [\"place\", \"wife\", \"Gandhi\"], \"primaryURL\": {\"src\": \"agdistis\", \"value\": \"http://dbpedia.org/resource/Mahatma_Gandhi\"}}, {\"question\": \"Who is the vice president of John Kennedy?\", \"stackDetails\": [{\"word\": \"vicePresident\", \"properties\": [[\"22-rdf-syntax-ns#type\", \"02\"], [\"rdf-schema#label\", \"01\"], [\"rdf-schema#comment\", \"01\"], [\"rdf-schema#seeAlso\", \"01\"], [\"owl#sameAs\", \"07\"], [\"deathPlace\", \"ontology\"], [\"deathDate\", \"ontology\"], [\"birthPlace\", \"ontology\"], [\"birthDate\", \"ontology\"], [\"subject\", \"terms\"], [\"wikiPageID\", \"ontology\"], [\"wikiPageRevisionID\", \"ontology\"], [\"wikiPageWikiLink\", \"ontology\"], [\"wikiPageExternalLink\", \"ontology\"], [\"name\", \"0.1\"], [\"name\", \"property\"], [\"depiction\", \"0.1\"], [\"description\", \"terms\"], [\"givenName\", \"0.1\"], [\"gender\", \"0.1\"], [\"isPrimaryTopicOf\", \"0.1\"], [\"surname\", \"0.1\"], [\"thumbnail\", \"ontology\"], [\"prov#wasDerivedFrom\", \"ns\"], [\"almaMater\", \"ontology\"], [\"battle\", \"ontology\"], [\"child\", \"ontology\"], [\"militaryBranch\", \"ontology\"], [\"militaryRank\", \"ontology\"], [\"militaryUnit\", \"ontology\"], [\"office\", \"ontology\"], [\"party\", \"ontology\"], [\"predecessor\", \"ontology\"], [\"profession\", \"ontology\"], [\"region\", \"ontology\"], [\"relation\", \"ontology\"], [\"religion\", \"ontology\"], [\"seniority\", \"ontology\"], [\"serviceEndYear\", \"ontology\"], [\"serviceStartYear\", \"ontology\"], [\"signature\", \"ontology\"], [\"soundRecording\", \"ontology\"], [\"spouse\", \"ontology\"], [\"successor\", \"ontology\"], [\"termPeriod\", \"ontology\"], [\"vicePresident\", \"ontology\"], [\"agriculture\", \"property\"], [\"agricultureEnd\", \"property\"], [\"agricultureStart\", \"property\"], [\"align\", \"property\"], [\"author\", \"property\"], [\"b\", \"property\"], [\"birthName\", \"property\"], [\"colwidth\", \"property\"], [\"commerce\", \"property\"], [\"commerceEnd\", \"property\"], [\"commerceStart\", \"property\"], [\"deathCause\", \"property\"], [\"defense\", \"property\"], [\"defenseEnd\", \"property\"], [\"defenseStart\", \"property\"], [\"format\", \"property\"], [\"help\", \"property\"], [\"interior\", \"property\"], [\"interiorEnd\", \"property\"], [\"interiorStart\", \"property\"], [\"justice\", \"property\"], [\"justiceEnd\", \"property\"], [\"justiceStart\", \"property\"], [\"labor\", \"property\"], [\"laborEnd\", \"property\"], [\"laborStart\", \"property\"], [\"mawards\", \"property\"], [\"n\", \"property\"], [\"parents\", \"property\"], [\"post\", \"property\"], [\"postDate\", \"property\"], [\"postEnd\", \"property\"], [\"postStart\", \"property\"], [\"president\", \"property\"], [\"presidentEnd\", \"property\"], [\"presidentStart\", \"property\"], [\"restingPlace\", \"property\"], [\"s\", \"property\"], [\"signatureAlt\", \"property\"], [\"sname\", \"property\"], [\"sopt\", \"property\"], [\"state\", \"property\"], [\"stateEnd\", \"property\"], [\"stateStart\", \"property\"], [\"text\", \"property\"], [\"title\", \"property\"], [\"treasury\", \"property\"], [\"treasuryEnd\", \"property\"], [\"treasuryStart\", \"property\"], [\"v\", \"property\"], [\"vicePresident\", \"property\"], [\"vicePresidentEnd\", \"property\"], [\"vicePresidentStart\", \"property\"], [\"wikt\", \"property\"], [\"health,Education,AndWelfare\", \"property\"], [\"health,Education,AndWelfareEnd\", \"property\"], [\"health,Education,AndWelfareStart\", \"property\"], [\"wordnet_type\", \"property\"], [\"vrank#hasRank\", \"voc\"], [\"hypernym\", \"gold\"]]}], \"answer\": [\"http://dbpedia.org/resource/Lyndon_B._Johnson\"], \"model\": [[[\"Who\", \"WP\"], \"cop\", [\"is\", \"VBZ\"]], [[\"Who\", \"WP\"], \"nsubj\", [\"president\", \"NN\"]], [[\"president\", \"NN\"], \"det\", [\"the\", \"DT\"]], [[\"president\", \"NN\"], \"compound\", [\"vice\", \"NN\"]], [[\"president\", \"NN\"], \"nmod\", [\"Kennedy\", \"NNP\"]], [[\"Kennedy\", \"NNP\"], \"case\", [\"of\", \"IN\"]], [[\"Kennedy\", \"NNP\"], \"compound\", [\"John\", \"NNP\"]]], \"stack\": [\"president\", \"Kennedy\"], \"primaryURL\": {\"src\": \"agdistis\", \"value\": \"http://dbpedia.org/resource/John_F._Kennedy\"}}, {\"question\": \"What is the birth place of wife of John Kennedy?\", \"stackDetails\": [{\"synonyms\": [[\"spouse\", \"spouse\"], [\"partner\", \"partner\"], [\"mate\", \"mate\"], [\"consort\", \"consort\"], [\"woman\", \"woman\"], [\"bride\", \"bride\"], [\"wife\", \"wife\"]], \"word\": \"wife\", \"properties\": [[\"22-rdf-syntax-ns#type\", \"02\"], [\"rdf-schema#label\", \"01\"], [\"rdf-schema#comment\", \"01\"], [\"rdf-schema#seeAlso\", \"01\"], [\"owl#sameAs\", \"07\"], [\"deathPlace\", \"ontology\"], [\"deathDate\", \"ontology\"], [\"birthPlace\", \"ontology\"], [\"birthDate\", \"ontology\"], [\"subject\", \"terms\"], [\"wikiPageID\", \"ontology\"], [\"wikiPageRevisionID\", \"ontology\"], [\"wikiPageWikiLink\", \"ontology\"], [\"wikiPageExternalLink\", \"ontology\"], [\"name\", \"0.1\"], [\"name\", \"property\"], [\"depiction\", \"0.1\"], [\"description\", \"terms\"], [\"givenName\", \"0.1\"], [\"gender\", \"0.1\"], [\"isPrimaryTopicOf\", \"0.1\"], [\"surname\", \"0.1\"], [\"thumbnail\", \"ontology\"], [\"prov#wasDerivedFrom\", \"ns\"], [\"almaMater\", \"ontology\"], [\"battle\", \"ontology\"], [\"child\", \"ontology\"], [\"militaryBranch\", \"ontology\"], [\"militaryRank\", \"ontology\"], [\"militaryUnit\", \"ontology\"], [\"office\", \"ontology\"], [\"party\", \"ontology\"], [\"predecessor\", \"ontology\"], [\"profession\", \"ontology\"], [\"region\", \"ontology\"], [\"relation\", \"ontology\"], [\"religion\", \"ontology\"], [\"seniority\", \"ontology\"], [\"serviceEndYear\", \"ontology\"], [\"serviceStartYear\", \"ontology\"], [\"signature\", \"ontology\"], [\"soundRecording\", \"ontology\"], [\"spouse\", \"ontology\"], [\"successor\", \"ontology\"], [\"termPeriod\", \"ontology\"], [\"vicePresident\", \"ontology\"], [\"agriculture\", \"property\"], [\"agricultureEnd\", \"property\"], [\"agricultureStart\", \"property\"], [\"align\", \"property\"], [\"author\", \"property\"], [\"b\", \"property\"], [\"birthName\", \"property\"], [\"colwidth\", \"property\"], [\"commerce\", \"property\"], [\"commerceEnd\", \"property\"], [\"commerceStart\", \"property\"], [\"deathCause\", \"property\"], [\"defense\", \"property\"], [\"defenseEnd\", \"property\"], [\"defenseStart\", \"property\"], [\"format\", \"property\"], [\"help\", \"property\"], [\"interior\", \"property\"], [\"interiorEnd\", \"property\"], [\"interiorStart\", \"property\"], [\"justice\", \"property\"], [\"justiceEnd\", \"property\"], [\"justiceStart\", \"property\"], [\"labor\", \"property\"], [\"laborEnd\", \"property\"], [\"laborStart\", \"property\"], [\"mawards\", \"property\"], [\"n\", \"property\"], [\"parents\", \"property\"], [\"post\", \"property\"], [\"postDate\", \"property\"], [\"postEnd\", \"property\"], [\"postStart\", \"property\"], [\"president\", \"property\"], [\"presidentEnd\", \"property\"], [\"presidentStart\", \"property\"], [\"restingPlace\", \"property\"], [\"s\", \"property\"], [\"signatureAlt\", \"property\"], [\"sname\", \"property\"], [\"sopt\", \"property\"], [\"state\", \"property\"], [\"stateEnd\", \"property\"], [\"stateStart\", \"property\"], [\"text\", \"property\"], [\"title\", \"property\"], [\"treasury\", \"property\"], [\"treasuryEnd\", \"property\"], [\"treasuryStart\", \"property\"], [\"v\", \"property\"], [\"vicePresident\", \"property\"], [\"vicePresidentEnd\", \"property\"], [\"vicePresidentStart\", \"property\"], [\"wikt\", \"property\"], [\"health,Education,AndWelfare\", \"property\"], [\"health,Education,AndWelfareEnd\", \"property\"], [\"health,Education,AndWelfareStart\", \"property\"], [\"wordnet_type\", \"property\"], [\"vrank#hasRank\", \"voc\"], [\"hypernym\", \"gold\"]]}, {\"word\": \"birthPlace\", \"properties\": [[\"22-rdf-syntax-ns#type\", \"02\"], [\"rdf-schema#label\", \"01\"], [\"rdf-schema#comment\", \"01\"], [\"owl#sameAs\", \"07\"], [\"deathPlace\", \"ontology\"], [\"deathDate\", \"ontology\"], [\"birthPlace\", \"ontology\"], [\"birthDate\", \"ontology\"], [\"subject\", \"terms\"], [\"wikiPageID\", \"ontology\"], [\"wikiPageRevisionID\", \"ontology\"], [\"wikiPageWikiLink\", \"ontology\"], [\"wikiPageExternalLink\", \"ontology\"], [\"name\", \"0.1\"], [\"depiction\", \"0.1\"], [\"description\", \"terms\"], [\"givenName\", \"0.1\"], [\"gender\", \"0.1\"], [\"isPrimaryTopicOf\", \"0.1\"], [\"surname\", \"0.1\"], [\"thumbnail\", \"ontology\"], [\"prov#wasDerivedFrom\", \"ns\"], [\"almaMater\", \"ontology\"], [\"child\", \"ontology\"], [\"office\", \"ontology\"], [\"party\", \"ontology\"], [\"predecessor\", \"ontology\"], [\"president\", \"ontology\"], [\"religion\", \"ontology\"], [\"signature\", \"ontology\"], [\"spouse\", \"ontology\"], [\"successor\", \"ontology\"], [\"termPeriod\", \"ontology\"], [\"align\", \"property\"], [\"bgcolor\", \"property\"], [\"birthName\", \"property\"], [\"caption\", \"property\"], [\"direction\", \"property\"], [\"headerimage\", \"property\"], [\"image\", \"property\"], [\"parents\", \"property\"], [\"quote\", \"property\"], [\"salign\", \"property\"], [\"source\", \"property\"], [\"termLabel\", \"property\"], [\"title\", \"property\"], [\"video\", \"property\"], [\"width\", \"property\"], [\"years\", \"property\"], [\"wordnet_type\", \"property\"], [\"vrank#hasRank\", \"voc\"], [\"hypernym\", \"gold\"]]}], \"answer\": [\"http://dbpedia.org/resource/Southampton,_New_York\"], \"model\": [[[\"What\", \"WP\"], \"cop\", [\"is\", \"VBZ\"]], [[\"What\", \"WP\"], \"nsubj\", [\"place\", \"NN\"]], [[\"place\", \"NN\"], \"det\", [\"the\", \"DT\"]], [[\"place\", \"NN\"], \"compound\", [\"birth\", \"NN\"]], [[\"place\", \"NN\"], \"nmod\", [\"wife\", \"NN\"]], [[\"wife\", \"NN\"], \"case\", [\"of\", \"IN\"]], [[\"wife\", \"NN\"], \"nmod\", [\"Kennedy\", \"NNP\"]], [[\"Kennedy\", \"NNP\"], \"case\", [\"of\", \"IN\"]], [[\"Kennedy\", \"NNP\"], \"compound\", [\"John\", \"NNP\"]]], \"stack\": [\"place\", \"wife\", \"Kennedy\"], \"primaryURL\": {\"src\": \"agdistis\", \"value\": \"http://dbpedia.org/resource/John_F._Kennedy\"}}, {\"question\": \"What is the municipality of Roberto Clemente Bridge\", \"stackDetails\": [{\"word\": \"municipality\", \"properties\": [[\"22-rdf-syntax-ns#type\", \"02\"], [\"rdf-schema#label\", \"01\"], [\"rdf-schema#comment\", \"01\"], [\"owl#sameAs\", \"07\"], [\"subject\", \"terms\"], [\"wikiPageID\", \"ontology\"], [\"wikiPageRevisionID\", \"ontology\"], [\"wikiPageWikiLink\", \"ontology\"], [\"wikiPageExternalLink\", \"ontology\"], [\"name\", \"0.1\"], [\"wgs84_pos#lat\", \"geo\"], [\"wgs84_pos#long\", \"geo\"], [\"depiction\", \"0.1\"], [\"isPrimaryTopicOf\", \"0.1\"], [\"wgs84_pos#geometry\", \"geo\"], [\"thumbnail\", \"ontology\"], [\"prov#wasDerivedFrom\", \"ns\"], [\"length\", \"Infrastructure\"], [\"architecturalStyle\", \"ontology\"], [\"country\", \"ontology\"], [\"foundingDate\", \"ontology\"], [\"length\", \"ontology\"], [\"material\", \"ontology\"], [\"municipality\", \"ontology\"], [\"region\", \"ontology\"], [\"river\", \"ontology\"], [\"synonym\", \"ontology\"], [\"type\", \"ontology\"], [\"authorType\", \"property\"], [\"dwgs\", \"property\"], [\"etymologyType\", \"property\"], [\"point\", \"georss\"], [\"bridge\", \"property\"], [\"cap\", \"property\"], [\"codeType\", \"property\"], [\"color\", \"property\"], [\"commons\", \"property\"], [\"countryFlag\", \"property\"], [\"downstream\", \"property\"], [\"downstreamSigns\", \"property\"], [\"established1Type\", \"property\"], [\"establishedType\", \"property\"], [\"etymology\", \"property\"], [\"id\", \"property\"], [\"imageCaption\", \"property\"], [\"latD\", \"property\"], [\"latM\", \"property\"], [\"latNs\", \"property\"], [\"latS\", \"property\"], [\"longD\", \"property\"], [\"longEw\", \"property\"], [\"longM\", \"property\"], [\"longS\", \"property\"], [\"management\", \"property\"], [\"map\", \"property\"], [\"map1Caption\", \"property\"], [\"mapCaption\", \"property\"], [\"mapLocator\", \"property\"], [\"number\", \"property\"], [\"officialName\", \"property\"], [\"parentType\", \"property\"], [\"photos\", \"property\"], [\"place\", \"property\"], [\"regionType\", \"property\"], [\"road\", \"property\"], [\"state\", \"property\"], [\"stateFlag\", \"property\"], [\"structure\", \"property\"], [\"survey\", \"property\"], [\"title\", \"property\"], [\"upstream\", \"property\"], [\"codeLabel\", \"property\"], [\"height1Imperial\", \"property\"], [\"height1Type\", \"property\"], [\"heightImperial\", \"property\"], [\"heightType\", \"property\"], [\"length1Imperial\", \"property\"], [\"length1Type\", \"property\"], [\"length2Imperial\", \"property\"], [\"length2Type\", \"property\"], [\"length3Type\", \"property\"], [\"managementType\", \"property\"], [\"numberType\", \"property\"], [\"riverType\", \"property\"], [\"road2Type\", \"property\"], [\"roadNote\", \"property\"], [\"styleType\", \"property\"], [\"width1Imperial\", \"property\"], [\"width1Type\", \"property\"], [\"wordnet_type\", \"property\"], [\"vrank#hasRank\", \"voc\"]]}], \"answer\": [\"http://dbpedia.org/resource/Pittsburgh,_Pennsylvania\"], \"model\": [[[\"What\", \"WP\"], \"cop\", [\"is\", \"VBZ\"]], [[\"What\", \"WP\"], \"nsubj\", [\"municipality\", \"NN\"]], [[\"municipality\", \"NN\"], \"det\", [\"the\", \"DT\"]], [[\"municipality\", \"NN\"], \"nmod\", [\"Bridge\", \"NNP\"]], [[\"Bridge\", \"NNP\"], \"case\", [\"of\", \"IN\"]], [[\"Bridge\", \"NNP\"], \"compound\", [\"Roberto\", \"NNP\"]], [[\"Bridge\", \"NNP\"], \"compound\", [\"Clemente\", \"NNP\"]]], \"stack\": [\"municipality\", \"Bridge\"], \"primaryURL\": {\"src\": \"agdistis\", \"value\": \"http://dbpedia.org/resource/Roberto_Clemente_Bridge\"}}, {\"question\": \"What is the nationality of the prime minister of Thanong Bidaya?\", \"stackDetails\": [{\"propertySynonymAvg\": [[\"\", 0.0], [\"imageSize\", 0.0], [\"primeMinister\", 0.0], [\"orderInOffice\", 0.0], [\"almaMater\", 0.0], [\"activeYearsStartDate\", 0.0], [\"activeYearsEndDate\", 0.0], [\"vrank#hasRank\", 0.0], [\"isPrimaryTopicOf\", 0.0], [\"wikiPageExternalLink\", 0.0], [\"prov#wasDerivedFrom\", 0.0], [\"wikiPageRevisionID\", 0.0], [\"22-rdf-syntax-ns#type\", 0.0], [\"rdf-schema#label\", 0.0], [\"rdf-schema#comment\", 0.0], [\"wikiPageWikiLink\", 0.0], [\"owl#sameAs\", 0.0], [\"birthPlace\", 0.0], [\"hypernym\", 0.0], [\"wikiPageID\", 0.0], [\"birthDate\", 0.0], [\"description\", 0.024655667378875017], [\"title\", 0.03220010342173493], [\"subject\", 0.04658562214202697], [\"name\", 0.055701946818340044], [\"years\", 0.05983840667022228], [\"gender\", 0.07721790744521854], [\"nationality\", 0.09251748804787917], [\"religion\", 0.09840623285603353], [\"profession\", 0.09876157180772607], [\"predecessor\", 0.11669396543228223], [\"successor\", 0.1336721763486292], [\"office\", 0.16426013823579055]], \"synonyms\": [[\"member of the government\", \"member_of_the_government\"], [\"political leader\", \"political_leader\"], [\"cabinet minister\", \"cabinet_minister\"], [\"secretary of state\", \"secretary_of_state\"], [\"secretary\", \"secretary\"], [\"undersecretary\", \"undersecretary\"], [\"department head\", \"department_head\"], [\"privy counsellor\", \"privy_counsellor\"], [\"politician\", \"politician\"], [\"minister\", \"minister\"]], \"word\": \"minister\", \"properties\": [[\"22-rdf-syntax-ns#type\", \"02\"], [\"rdf-schema#label\", \"01\"], [\"rdf-schema#comment\", \"01\"], [\"owl#sameAs\", \"07\"], [\"birthPlace\", \"ontology\"], [\"birthDate\", \"ontology\"], [\"subject\", \"terms\"], [\"wikiPageID\", \"ontology\"], [\"wikiPageRevisionID\", \"ontology\"], [\"wikiPageWikiLink\", \"ontology\"], [\"wikiPageExternalLink\", \"ontology\"], [\"name\", \"0.1\"], [\"description\", \"terms\"], [\"gender\", \"0.1\"], [\"isPrimaryTopicOf\", \"0.1\"], [\"prov#wasDerivedFrom\", \"ns\"], [\"activeYearsEndDate\", \"ontology\"], [\"activeYearsStartDate\", \"ontology\"], [\"almaMater\", \"ontology\"], [\"nationality\", \"ontology\"], [\"office\", \"ontology\"], [\"orderInOffice\", \"ontology\"], [\"primeMinister\", \"ontology\"], [\"profession\", \"ontology\"], [\"religion\", \"ontology\"], [\"successor\", \"ontology\"], [\"imageSize\", \"property\"], [\"predecessor\", \"property\"], [\"title\", \"property\"], [\"years\", \"property\"], [\"vrank#hasRank\", \"voc\"], [\"hypernym\", \"gold\"]], \"keyword\": \"office\"}, {\"word\": \"nationality\", \"properties\": [[\"22-rdf-syntax-ns#type\", \"02\"], [\"rdf-schema#label\", \"01\"], [\"rdf-schema#comment\", \"01\"], [\"owl#sameAs\", \"07\"], [\"birthPlace\", \"ontology\"], [\"birthDate\", \"ontology\"], [\"subject\", \"terms\"], [\"wikiPageID\", \"ontology\"], [\"wikiPageRevisionID\", \"ontology\"], [\"wikiPageWikiLink\", \"ontology\"], [\"wikiPageExternalLink\", \"ontology\"], [\"name\", \"0.1\"], [\"description\", \"terms\"], [\"gender\", \"0.1\"], [\"isPrimaryTopicOf\", \"0.1\"], [\"prov#wasDerivedFrom\", \"ns\"], [\"activeYearsEndDate\", \"ontology\"], [\"activeYearsStartDate\", \"ontology\"], [\"almaMater\", \"ontology\"], [\"nationality\", \"ontology\"], [\"office\", \"ontology\"], [\"orderInOffice\", \"ontology\"], [\"primeMinister\", \"ontology\"], [\"profession\", \"ontology\"], [\"religion\", \"ontology\"], [\"successor\", \"ontology\"], [\"imageSize\", \"property\"], [\"predecessor\", \"property\"], [\"title\", \"property\"], [\"years\", \"property\"], [\"vrank#hasRank\", \"voc\"], [\"hypernym\", \"gold\"]]}], \"answer\": [\"http://dbpedia.org/resource/Thailand\"], \"model\": [[[\"What\", \"WP\"], \"cop\", [\"is\", \"VBZ\"]], [[\"What\", \"WP\"], \"nsubj\", [\"nationality\", \"NN\"]], [[\"nationality\", \"NN\"], \"det\", [\"the\", \"DT\"]], [[\"nationality\", \"NN\"], \"nmod\", [\"minister\", \"NN\"]], [[\"minister\", \"NN\"], \"case\", [\"of\", \"IN\"]], [[\"minister\", \"NN\"], \"det\", [\"the\", \"DT\"]], [[\"minister\", \"NN\"], \"amod\", [\"prime\", \"JJ\"]], [[\"minister\", \"NN\"], \"nmod\", [\"Bidaya\", \"NNP\"]], [[\"Bidaya\", \"NNP\"], \"case\", [\"of\", \"IN\"]], [[\"Bidaya\", \"NNP\"], \"compound\", [\"Thanong\", \"NNP\"]]], \"stack\": [\"nationality\", \"minister\", \"Bidaya\"], \"primaryURL\": {\"src\": \"agdistis\", \"value\": \"http://dbpedia.org/resource/Thanong_Bidaya\"}}, {\"question\": \"Who is the founder of Facebook?\", \"stackDetails\": [{\"propertySynonymAvg\": [[\"b\", -0.001884972642777335], [\"currentStatus\", 0.0], [\"foundedBy\", 0.0], [\"keyPerson\", 0.0], [\"numberOfEmployees\", 0.0], [\"regionServed\", 0.0], [\"vrank#hasRank\", 0.0], [\"prov#wasDerivedFrom\", 0.0], [\"\", 0.0], [\"numUsers\", 0.0], [\"programmingLanguage\", 0.0], [\"screenshotSize\", 0.0], [\"tradedAs\", 0.0], [\"websiteType\", 0.0], [\"wikt\", 0.0], [\"commonsCategory\", 0.0], [\"wgs84_pos#geometry\", 0.0], [\"hypernym\", 0.0], [\"secCik\", 0.0], [\"wikiPageRevisionID\", 0.0], [\"wikiPageWikiLink\", 0.0], [\"wikiPageID\", 0.0], [\"wikiPageExternalLink\", 0.0], [\"rdf-schema#comment\", 0.0], [\"owl#sameAs\", 0.0], [\"rdf-schema#label\", 0.0], [\"wgs84_pos#lat\", 0.0], [\"wgs84_pos#long\", 0.0], [\"22-rdf-syntax-ns#type\", 0.0], [\"isPrimaryTopicOf\", 0.0], [\"species\", 0.002817043458886266], [\"registration\", 0.005349535878389559], [\"homepage\", 0.008654093143371048], [\"point\", 0.012443235391848847], [\"v\", 0.01690087787207215], [\"n\", 0.017140757319196873], [\"caption\", 0.021248230082115235], [\"alexa\", 0.023681398718074533], [\"thumbnail\", 0.028127230311478586], [\"display\", 0.028254353620275473], [\"subject\", 0.03132480617358888], [\"q\", 0.03612190759935962], [\"language\", 0.04593712766027798], [\"logo\", 0.049560705681590086], [\"date\", 0.05074629523031045], [\"hoovers\", 0.0552717748016394], [\"voy\", 0.05640121891034445], [\"screenshot\", 0.05647637658318806], [\"location\", 0.07393578271374791], [\"reason\", 0.07670642995645804], [\"s\", 0.0779615538781021], [\"type\", 0.07835711981366629], [\"symbol\", 0.09131122314057984], [\"depiction\", 0.10395521032049795], [\"industry\", 0.11077155756708759], [\"subsidiary\", 0.11213220639109615], [\"name\", 0.11822628999566893], [\"name\", 0.11822628999566893], [\"owner\", 0.20654131815350646]], \"synonyms\": [[\"originator\", \"originator\"], [\"creator\", \"creator\"], [\"initiator\", \"initiator\"], [\"institutor\", \"institutor\"], [\"instigator\", \"instigator\"], [\"organizer\", \"organizer\"], [\"father\", \"father\"], [\"founding father\", \"founding_father\"], [\"prime mover\", \"prime_mover\"], [\"architect\", \"architect\"], [\"engineer\", \"engineer\"], [\"designer\", \"designer\"], [\"deviser\", \"deviser\"], [\"developer\", \"developer\"], [\"pioneer\", \"pioneer\"], [\"author\", \"author\"], [\"planner\", \"planner\"], [\"framer\", \"framer\"], [\"inventor\", \"inventor\"], [\"mastermind\", \"mastermind\"], [\"maker\", \"maker\"], [\"producer\", \"producer\"], [\"builder\", \"builder\"], [\"constructor\", \"constructor\"], [\"founder\", \"founder\"]], \"word\": \"founder\", \"properties\": [[\"22-rdf-syntax-ns#type\", \"02\"], [\"rdf-schema#label\", \"01\"], [\"rdf-schema#comment\", \"01\"], [\"owl#sameAs\", \"07\"], [\"subject\", \"terms\"], [\"wikiPageID\", \"ontology\"], [\"wikiPageRevisionID\", \"ontology\"], [\"wikiPageWikiLink\", \"ontology\"], [\"wikiPageExternalLink\", \"ontology\"], [\"name\", \"0.1\"], [\"homepage\", \"0.1\"], [\"name\", \"property\"], [\"wgs84_pos#lat\", \"geo\"], [\"wgs84_pos#long\", \"geo\"], [\"depiction\", \"0.1\"], [\"secCik\", \"property\"], [\"isPrimaryTopicOf\", \"0.1\"], [\"wgs84_pos#geometry\", \"geo\"], [\"thumbnail\", \"ontology\"], [\"prov#wasDerivedFrom\", \"ns\"], [\"currentStatus\", \"ontology\"], [\"foundedBy\", \"ontology\"], [\"industry\", \"ontology\"], [\"keyPerson\", \"ontology\"], [\"language\", \"ontology\"], [\"location\", \"ontology\"], [\"numberOfEmployees\", \"ontology\"], [\"regionServed\", \"ontology\"], [\"subsidiary\", \"ontology\"], [\"type\", \"ontology\"], [\"point\", \"georss\"], [\"registration\", \"property\"], [\"alexa\", \"property\"], [\"b\", \"property\"], [\"caption\", \"property\"], [\"commonsCategory\", \"property\"], [\"date\", \"property\"], [\"display\", \"property\"], [\"hoovers\", \"property\"], [\"logo\", \"property\"], [\"n\", \"property\"], [\"numUsers\", \"property\"], [\"owner\", \"property\"], [\"programmingLanguage\", \"property\"], [\"q\", \"property\"], [\"reason\", \"property\"], [\"s\", \"property\"], [\"screenshot\", \"property\"], [\"screenshotSize\", \"property\"], [\"species\", \"property\"], [\"symbol\", \"property\"], [\"tradedAs\", \"property\"], [\"v\", \"property\"], [\"voy\", \"property\"], [\"websiteType\", \"property\"], [\"wikt\", \"property\"], [\"vrank#hasRank\", \"voc\"], [\"hypernym\", \"gold\"]], \"keyword\": \"owner\"}], \"answer\": [\"Mark Zuckerberg\"], \"model\": [[[\"Who\", \"WP\"], \"cop\", [\"is\", \"VBZ\"]], [[\"Who\", \"WP\"], \"nsubj\", [\"founder\", \"NN\"]], [[\"founder\", \"NN\"], \"det\", [\"the\", \"DT\"]], [[\"founder\", \"NN\"], \"nmod\", [\"Facebook\", \"NNP\"]], [[\"Facebook\", \"NNP\"], \"case\", [\"of\", \"IN\"]]], \"stack\": [\"founder\", \"Facebook\"], \"primaryURL\": {\"src\": \"agdistis\", \"value\": \"http://dbpedia.org/resource/Facebook\"}}]\n"
     ]
    }
   ],
   "source": [
    "print json.dumps(bigJson)"
   ]
  },
  {
   "cell_type": "code",
   "execution_count": null,
   "metadata": {
    "collapsed": true
   },
   "outputs": [],
   "source": []
  }
 ],
 "metadata": {
  "kernelspec": {
   "display_name": "Python 2",
   "language": "python",
   "name": "python2"
  },
  "language_info": {
   "codemirror_mode": {
    "name": "ipython",
    "version": 2
   },
   "file_extension": ".py",
   "mimetype": "text/x-python",
   "name": "python",
   "nbconvert_exporter": "python",
   "pygments_lexer": "ipython2",
   "version": "2.7.12"
  }
 },
 "nbformat": 4,
 "nbformat_minor": 2
}
